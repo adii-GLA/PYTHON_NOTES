{
 "cells": [
  {
   "cell_type": "code",
   "execution_count": 33,
   "metadata": {},
   "outputs": [],
   "source": [
    "#---------------------basic code-------------------------------------\n",
    "from tkinter import *\n",
    "adii_root=Tk()\n",
    "adii_root.geometry(\"432x535\")\n",
    "adii_root.minsize(200,100)\n",
    "adii_root.maxsize(200,100)\n",
    "adii_root.mainloop()"
   ]
  },
  {
   "cell_type": "code",
   "execution_count": null,
   "metadata": {},
   "outputs": [],
   "source": [
    "#--------------------------label-------------------------------------\n",
    "from tkinter import *\n",
    "root=Tk()\n",
    "root.geometry(\"432x535\")\n",
    "label1=Label(text=\"xcfyugcfycyubgcyu\", bg=\"red\")\n",
    "label1.pack()\n",
    "root.mainloop()"
   ]
  },
  {
   "cell_type": "code",
   "execution_count": null,
   "metadata": {},
   "outputs": [],
   "source": [
    "from tkinter import *\n",
    "root=Tk()\n",
    "root.geometry(\"432x535\")\n",
    "label1=Label(text=\"my name is aditya\")\n",
    "label1.pack()\n",
    "root.mainloop()"
   ]
  },
  {
   "cell_type": "code",
   "execution_count": 4,
   "metadata": {},
   "outputs": [
    {
     "ename": "TclError",
     "evalue": "couldn't recognize data in image file \"1.png\"",
     "output_type": "error",
     "traceback": [
      "\u001b[1;31m---------------------------------------------------------------------------\u001b[0m",
      "\u001b[1;31mTclError\u001b[0m                                  Traceback (most recent call last)",
      "Cell \u001b[1;32mIn[4], line 4\u001b[0m\n\u001b[0;32m      2\u001b[0m root\u001b[38;5;241m=\u001b[39mTk()\n\u001b[0;32m      3\u001b[0m root\u001b[38;5;241m.\u001b[39mgeometry(\u001b[38;5;124m\"\u001b[39m\u001b[38;5;124m432x535\u001b[39m\u001b[38;5;124m\"\u001b[39m)\n\u001b[1;32m----> 4\u001b[0m photo\u001b[38;5;241m=\u001b[39m\u001b[43mPhotoImage\u001b[49m\u001b[43m(\u001b[49m\u001b[43mfile\u001b[49m\u001b[38;5;241;43m=\u001b[39;49m\u001b[38;5;124;43m\"\u001b[39;49m\u001b[38;5;124;43m1.png\u001b[39;49m\u001b[38;5;124;43m\"\u001b[39;49m\u001b[43m)\u001b[49m\n\u001b[0;32m      5\u001b[0m label1\u001b[38;5;241m=\u001b[39mLabel(image\u001b[38;5;241m=\u001b[39mphoto)\n\u001b[0;32m      6\u001b[0m label1\u001b[38;5;241m.\u001b[39mpack()\n",
      "File \u001b[1;32mc:\\Users\\DELL\\AppData\\Local\\Programs\\Python\\Python311\\Lib\\tkinter\\__init__.py:4129\u001b[0m, in \u001b[0;36mPhotoImage.__init__\u001b[1;34m(self, name, cnf, master, **kw)\u001b[0m\n\u001b[0;32m   4124\u001b[0m \u001b[38;5;28;01mdef\u001b[39;00m \u001b[38;5;21m__init__\u001b[39m(\u001b[38;5;28mself\u001b[39m, name\u001b[38;5;241m=\u001b[39m\u001b[38;5;28;01mNone\u001b[39;00m, cnf\u001b[38;5;241m=\u001b[39m{}, master\u001b[38;5;241m=\u001b[39m\u001b[38;5;28;01mNone\u001b[39;00m, \u001b[38;5;241m*\u001b[39m\u001b[38;5;241m*\u001b[39mkw):\n\u001b[0;32m   4125\u001b[0m \u001b[38;5;250m    \u001b[39m\u001b[38;5;124;03m\"\"\"Create an image with NAME.\u001b[39;00m\n\u001b[0;32m   4126\u001b[0m \n\u001b[0;32m   4127\u001b[0m \u001b[38;5;124;03m    Valid resource names: data, format, file, gamma, height, palette,\u001b[39;00m\n\u001b[0;32m   4128\u001b[0m \u001b[38;5;124;03m    width.\"\"\"\u001b[39;00m\n\u001b[1;32m-> 4129\u001b[0m     \u001b[43mImage\u001b[49m\u001b[38;5;241;43m.\u001b[39;49m\u001b[38;5;21;43m__init__\u001b[39;49m\u001b[43m(\u001b[49m\u001b[38;5;28;43mself\u001b[39;49m\u001b[43m,\u001b[49m\u001b[43m \u001b[49m\u001b[38;5;124;43m'\u001b[39;49m\u001b[38;5;124;43mphoto\u001b[39;49m\u001b[38;5;124;43m'\u001b[39;49m\u001b[43m,\u001b[49m\u001b[43m \u001b[49m\u001b[43mname\u001b[49m\u001b[43m,\u001b[49m\u001b[43m \u001b[49m\u001b[43mcnf\u001b[49m\u001b[43m,\u001b[49m\u001b[43m \u001b[49m\u001b[43mmaster\u001b[49m\u001b[43m,\u001b[49m\u001b[43m \u001b[49m\u001b[38;5;241;43m*\u001b[39;49m\u001b[38;5;241;43m*\u001b[39;49m\u001b[43mkw\u001b[49m\u001b[43m)\u001b[49m\n",
      "File \u001b[1;32mc:\\Users\\DELL\\AppData\\Local\\Programs\\Python\\Python311\\Lib\\tkinter\\__init__.py:4074\u001b[0m, in \u001b[0;36mImage.__init__\u001b[1;34m(self, imgtype, name, cnf, master, **kw)\u001b[0m\n\u001b[0;32m   4072\u001b[0m         v \u001b[38;5;241m=\u001b[39m \u001b[38;5;28mself\u001b[39m\u001b[38;5;241m.\u001b[39m_register(v)\n\u001b[0;32m   4073\u001b[0m     options \u001b[38;5;241m=\u001b[39m options \u001b[38;5;241m+\u001b[39m (\u001b[38;5;124m'\u001b[39m\u001b[38;5;124m-\u001b[39m\u001b[38;5;124m'\u001b[39m\u001b[38;5;241m+\u001b[39mk, v)\n\u001b[1;32m-> 4074\u001b[0m \u001b[38;5;28;43mself\u001b[39;49m\u001b[38;5;241;43m.\u001b[39;49m\u001b[43mtk\u001b[49m\u001b[38;5;241;43m.\u001b[39;49m\u001b[43mcall\u001b[49m\u001b[43m(\u001b[49m\u001b[43m(\u001b[49m\u001b[38;5;124;43m'\u001b[39;49m\u001b[38;5;124;43mimage\u001b[39;49m\u001b[38;5;124;43m'\u001b[39;49m\u001b[43m,\u001b[49m\u001b[43m \u001b[49m\u001b[38;5;124;43m'\u001b[39;49m\u001b[38;5;124;43mcreate\u001b[39;49m\u001b[38;5;124;43m'\u001b[39;49m\u001b[43m,\u001b[49m\u001b[43m \u001b[49m\u001b[43mimgtype\u001b[49m\u001b[43m,\u001b[49m\u001b[43m \u001b[49m\u001b[43mname\u001b[49m\u001b[43m,\u001b[49m\u001b[43m)\u001b[49m\u001b[43m \u001b[49m\u001b[38;5;241;43m+\u001b[39;49m\u001b[43m \u001b[49m\u001b[43moptions\u001b[49m\u001b[43m)\u001b[49m\n\u001b[0;32m   4075\u001b[0m \u001b[38;5;28mself\u001b[39m\u001b[38;5;241m.\u001b[39mname \u001b[38;5;241m=\u001b[39m name\n",
      "\u001b[1;31mTclError\u001b[0m: couldn't recognize data in image file \"1.png\""
     ]
    }
   ],
   "source": [
    "from tkinter import *\n",
    "root=Tk()\n",
    "root.geometry(\"432x535\")\n",
    "photo=PhotoImage(file=\"1.png\")\n",
    "label1=Label(image=photo)\n",
    "label1.pack()\n",
    "root.mainloop()"
   ]
  },
  {
   "cell_type": "code",
   "execution_count": 31,
   "metadata": {},
   "outputs": [],
   "source": [
    "#label \n",
    "from tkinter import *\n",
    "root=Tk()\n",
    "root.geometry(\"200x200\")\n",
    "root.title(\"my gui\")\n",
    "label1=Label(text=\"aditya\",bg=\"skyblue\",fg=\"red\",padx=90,pady=90,font=(\"19,bold\"),borderwidth=3,relief=SUNKEN)\n",
    "#pack\n",
    "label1.pack(side=LEFT,fill=Y,padx=34)\n",
    "root.mainloop()"
   ]
  },
  {
   "cell_type": "code",
   "execution_count": 51,
   "metadata": {},
   "outputs": [],
   "source": [
    "from tkinter import *\n",
    "root=Tk()\n",
    "root.geometry(\"657x498\")\n",
    "f1=Frame(root,bg=\"grey\",borderwidth=6,relief=SUNKEN)\n",
    "f1.pack(side=LEFT,fill=\"y\")\n",
    "\n",
    "f2=Frame(root,bg=\"grey\",borderwidth=6,relief=SUNKEN)\n",
    "f2.pack(side=TOP,fill=\"x\")\n",
    "\n",
    "label1=Label(f1,text=\"project\")\n",
    "label1.pack(pady=190)\n",
    "\n",
    "label2=Label(f2,text=\"project\")\n",
    "label2.pack(padx=190)\n",
    "root.mainloop()"
   ]
  },
  {
   "cell_type": "code",
   "execution_count": 68,
   "metadata": {},
   "outputs": [
    {
     "name": "stdout",
     "output_type": "stream",
     "text": [
      "ram ram bhaiyo\n",
      "ram ram bhaiyo\n",
      "ram ram bhaiyo\n",
      "ram ram bhaiyo\n"
     ]
    }
   ],
   "source": [
    "#button\n",
    "from tkinter import *\n",
    "root=Tk()\n",
    "root.geometry(\"400x400\")\n",
    "def hello():\n",
    "    print(\"ram ram bhaiyo\")\n",
    "frame1=Frame(borderwidth=6,bg=\"pink\")\n",
    "frame1.pack()\n",
    "b1=Button(frame1,bg=\"red\",text=\"clickme!\",fg=\"white\",relief=SUNKEN,command=hello)\n",
    "b1.pack()\n",
    "root.mainloop()\n"
   ]
  },
  {
   "cell_type": "code",
   "execution_count": 2,
   "metadata": {},
   "outputs": [],
   "source": [
    "from tkinter import *\n",
    "root=Tk()\n",
    "root.geometry(\"400x400\")\n",
    "def value():\n",
    "    print(label1value.get())\n",
    "    print(label2value.get())\n",
    "label1=Label(root,text=\"username\",)\n",
    "label2=Label(root,text=\"password\")\n",
    "label1.grid()\n",
    "label2.grid(row=1)\n",
    "\n",
    "label1value=StringVar()\n",
    "label2value=StringVar()\n",
    "userentry=Entry(root,textvariable=label1value)\n",
    "passentry=Entry(root,textvariable=label2value)\n",
    "\n",
    "userentry.grid(row=0,column=1)\n",
    "passentry.grid(row=1,column=1)\n",
    "b1=Button(root,text=\"submit\",command=value)\n",
    "b1.grid(row=3,column=0)\n",
    "root.mainloop()"
   ]
  },
  {
   "cell_type": "code",
   "execution_count": 20,
   "metadata": {},
   "outputs": [],
   "source": [
    "from tkinter import *\n",
    "root=Tk()\n",
    "root.title(\"my first form\")\n",
    "root.geometry(\"400x400\")\n",
    "def getvalue():\n",
    "    pass\n",
    "label1=Label(root,text=\"welcome to our company\",bg=\"pink\",fg=\"black\",font=\"bold\")\n",
    "label1.grid(row=0,column=1)\n",
    "name=Label(root,text=\"Name\")\n",
    "phone=Label(root,text=\"Phone\")\n",
    "gender=Label(root,text=\"Gender\")\n",
    "payment_mode=Label(root,text=\"Payment mode\")\n",
    "\n",
    "name.grid(row=1,column=1)\n",
    "phone.grid(row=2,column=1)\n",
    "gender.grid(row=3,column=1)\n",
    "payment_mode.grid(row=4,column=1)\n",
    "\n",
    "namevalue=StringVar()\n",
    "phonevalue=StringVar()\n",
    "gendervalue=StringVar()\n",
    "payment_modevalue=StringVar()\n",
    "\n",
    "nameentry=Entry(root,textvariable=namevalue)\n",
    "phoneentry=Entry(root,textvariable=phonevalue)\n",
    "genderentry=Entry(root,textvariable=gendervalue)\n",
    "payment_modeentry=Entry(root,textvariable=payment_modevalue)\n",
    "\n",
    "\n",
    "nameentry.grid(row=1,column=2)\n",
    "phoneentry.grid(row=2,column=2)\n",
    "genderentry.grid(row=3,column=2)\n",
    "payment_modeentry.grid(row=4,column=2)\n",
    "\n",
    "c1=Checkbutton(text=\"jhveudy\")\n",
    "c1.grid(row=5,column=1)\n",
    "\n",
    "b1=Button(root,text=\"submit\",command=getvalue)\n",
    "b1.grid(row=6,column=1)\n",
    "\n",
    "root.mainloop()"
   ]
  },
  {
   "cell_type": "code",
   "execution_count": 21,
   "metadata": {},
   "outputs": [
    {
     "data": {
      "text/plain": [
       "''"
      ]
     },
     "execution_count": 21,
     "metadata": {},
     "output_type": "execute_result"
    }
   ],
   "source": [
    "from tkinter import *\n",
    "root=Tk()\n",
    "# root.title(\"my first form\")\n",
    "root.geometry(f\"400x400\")\n",
    "root.mainloop()"
   ]
  },
  {
   "cell_type": "code",
   "execution_count": null,
   "metadata": {},
   "outputs": [],
   "source": [
    "#event\n",
    "from tkinter import *\n",
    "root=Tk()\n",
    "root.geometry(\"400x400\")\n",
    "def harry(event):\n",
    "    print(\"you click\")\n",
    "widget=Button(root,text=\"click me!\")\n",
    "widget.pack()\n",
    "widget.bind('<Button-1>',harry)\n",
    "widget.bind('<Double-1>',quit)\n",
    "root.mainloop()"
   ]
  },
  {
   "cell_type": "code",
   "execution_count": 30,
   "metadata": {},
   "outputs": [
    {
     "name": "stdout",
     "output_type": "stream",
     "text": [
      "wasedrftgyhuj\n",
      "wasedrftgyhuj\n",
      "wasedrftgyhuj\n"
     ]
    },
    {
     "ename": "",
     "evalue": "",
     "output_type": "error",
     "traceback": [
      "\u001b[1;31mThe Kernel crashed while executing code in the current cell or a previous cell. \n",
      "\u001b[1;31mPlease review the code in the cell(s) to identify a possible cause of the failure. \n",
      "\u001b[1;31mClick <a href='https://aka.ms/vscodeJupyterKernelCrash'>here</a> for more info. \n",
      "\u001b[1;31mView Jupyter <a href='command:jupyter.viewOutput'>log</a> for further details."
     ]
    }
   ],
   "source": [
    "from tkinter import *\n",
    "root=Tk()\n",
    "root.geometry(\"400x400\")\n",
    "root.title(\"main and menu\")\n",
    "def myfunc():\n",
    "    print(\"wasedrftgyhuj\")\n",
    "\n",
    "mymenu=Menu(root)\n",
    "mymenu.add_command(label=\"File\",command=myfunc)\n",
    "mymenu.add_command(label=\"Exit\",command=quit)\n",
    "root.config(menu=mymenu)\n",
    "root.mainloop()\n"
   ]
  }
 ],
 "metadata": {
  "kernelspec": {
   "display_name": "Python 3",
   "language": "python",
   "name": "python3"
  },
  "language_info": {
   "codemirror_mode": {
    "name": "ipython",
    "version": 3
   },
   "file_extension": ".py",
   "mimetype": "text/x-python",
   "name": "python",
   "nbconvert_exporter": "python",
   "pygments_lexer": "ipython3",
   "version": "3.11.4"
  }
 },
 "nbformat": 4,
 "nbformat_minor": 2
}
