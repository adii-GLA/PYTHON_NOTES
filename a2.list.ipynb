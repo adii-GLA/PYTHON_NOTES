{
 "cells": [
  {
   "cell_type": "code",
   "execution_count": 1,
   "metadata": {},
   "outputs": [
    {
     "name": "stdout",
     "output_type": "stream",
     "text": [
      "['aditya', 'prashant', 'sumit', 'nitin']\n"
     ]
    }
   ],
   "source": [
    "names=[\"aditya\",\"prashant\",\"sumit\",\"nitin\"]\n",
    "print(names)"
   ]
  },
  {
   "cell_type": "code",
   "execution_count": 4,
   "metadata": {},
   "outputs": [
    {
     "name": "stdout",
     "output_type": "stream",
     "text": [
      "['adii', 'prashant', 'sumit', 'nitin']\n"
     ]
    }
   ],
   "source": [
    "#change in list\n",
    "names=[\"aditya\",\"prashant\",\"sumit\",\"nitin\"]\n",
    "names[0]=\"adii\"\n",
    "print(names)"
   ]
  },
  {
   "cell_type": "code",
   "execution_count": 11,
   "metadata": {},
   "outputs": [
    {
     "name": "stdout",
     "output_type": "stream",
     "text": [
      "['aditya', 'prashant', 'sumit', 'nitin', 'sumit']\n"
     ]
    }
   ],
   "source": [
    "#TO ADD SOME THING AT THE END ONLY\n",
    "names=[\"aditya\",\"prashant\",\"sumit\",\"nitin\"]\n",
    "x=names.append(\"sumit\")\n",
    "print(names)"
   ]
  },
  {
   "cell_type": "code",
   "execution_count": 13,
   "metadata": {},
   "outputs": [
    {
     "name": "stdout",
     "output_type": "stream",
     "text": [
      "['prashant', 'sumit', 'nitin']\n",
      "sumit\n"
     ]
    }
   ],
   "source": [
    "#to remove something from list\n",
    "names=[\"aditya\",\"prashant\",\"sumit\",\"nitin\"]\n",
    "names.remove(\"aditya\")\n",
    "print(names)\n",
    "print(names[1])"
   ]
  },
  {
   "cell_type": "code",
   "execution_count": 19,
   "metadata": {},
   "outputs": [
    {
     "name": "stdout",
     "output_type": "stream",
     "text": [
      "['aditya', 'prashant', 'sumit', 'nitin']\n"
     ]
    },
    {
     "ename": "NameError",
     "evalue": "name 'names' is not defined",
     "output_type": "error",
     "traceback": [
      "\u001b[1;31m---------------------------------------------------------------------------\u001b[0m",
      "\u001b[1;31mNameError\u001b[0m                                 Traceback (most recent call last)",
      "\u001b[1;32mc:\\Users\\DELL\\Desktop\\PYTHON PRACTICE\\a2.list.ipynb Cell 5\u001b[0m line \u001b[0;36m5\n\u001b[0;32m      <a href='vscode-notebook-cell:/c%3A/Users/DELL/Desktop/PYTHON%20PRACTICE/a2.list.ipynb#W5sZmlsZQ%3D%3D?line=2'>3</a>\u001b[0m \u001b[39mprint\u001b[39m(names)\n\u001b[0;32m      <a href='vscode-notebook-cell:/c%3A/Users/DELL/Desktop/PYTHON%20PRACTICE/a2.list.ipynb#W5sZmlsZQ%3D%3D?line=3'>4</a>\u001b[0m \u001b[39mdel\u001b[39;00m names\n\u001b[1;32m----> <a href='vscode-notebook-cell:/c%3A/Users/DELL/Desktop/PYTHON%20PRACTICE/a2.list.ipynb#W5sZmlsZQ%3D%3D?line=4'>5</a>\u001b[0m \u001b[39mprint\u001b[39m(names)\n",
      "\u001b[1;31mNameError\u001b[0m: name 'names' is not defined"
     ]
    }
   ],
   "source": [
    "#to delete list\n",
    "names=[\"aditya\",\"prashant\",\"sumit\",\"nitin\"]\n",
    "print(names)\n",
    "del names\n",
    "print(names)"
   ]
  },
  {
   "cell_type": "code",
   "execution_count": 2,
   "metadata": {},
   "outputs": [
    {
     "name": "stdout",
     "output_type": "stream",
     "text": [
      "[]\n"
     ]
    }
   ],
   "source": [
    "# TO CKLEAR DATA FROM LIST\n",
    "names=[\"aditya\",\"prashant\",\"sumit\",\"nitin\"]\n",
    "names.clear()\n",
    "print(names)"
   ]
  },
  {
   "cell_type": "code",
   "execution_count": 4,
   "metadata": {},
   "outputs": [
    {
     "name": "stdout",
     "output_type": "stream",
     "text": [
      "['nitin', 'sumit', 'prashant', 'aditya']\n"
     ]
    }
   ],
   "source": [
    "# TO REVERSE THE LIST\n",
    "names=[\"aditya\",\"prashant\",\"sumit\",\"nitin\"]\n",
    "names.reverse()\n",
    "print(names)"
   ]
  }
 ],
 "metadata": {
  "kernelspec": {
   "display_name": "Python 3",
   "language": "python",
   "name": "python3"
  },
  "language_info": {
   "codemirror_mode": {
    "name": "ipython",
    "version": 3
   },
   "file_extension": ".py",
   "mimetype": "text/x-python",
   "name": "python",
   "nbconvert_exporter": "python",
   "pygments_lexer": "ipython3",
   "version": "3.11.4"
  }
 },
 "nbformat": 4,
 "nbformat_minor": 2
}
