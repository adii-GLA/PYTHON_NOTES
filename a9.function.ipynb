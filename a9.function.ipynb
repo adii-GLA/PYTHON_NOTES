{
 "cells": [
  {
   "cell_type": "code",
   "execution_count": 4,
   "metadata": {},
   "outputs": [
    {
     "name": "stdout",
     "output_type": "stream",
     "text": [
      "20\n"
     ]
    }
   ],
   "source": [
    "# MAXIMUM \n",
    "a=10\n",
    "b=20\n",
    "c=max(a,b)\n",
    "print(c)"
   ]
  },
  {
   "cell_type": "code",
   "execution_count": 8,
   "metadata": {},
   "outputs": [
    {
     "name": "stdout",
     "output_type": "stream",
     "text": [
      "4\n"
     ]
    }
   ],
   "source": [
    "# HOW TO MAKE FUNCTION\n",
    "a=int(input(\"enter the number\"))\n",
    "def my_square():\n",
    "    b=a**2\n",
    "    print(b)\n",
    "my_square()"
   ]
  },
  {
   "cell_type": "code",
   "execution_count": null,
   "metadata": {},
   "outputs": [],
   "source": [
    "#----------------------------------------SOMETHING NEW------------------------------------------------------------\n",
    "import random \n",
    "\n",
    "def guess_number():\n",
    "    return random.randint(1,100)\n",
    "\n",
    "target_number = guess_number()\n",
    "attempts = 0 \n",
    "\n",
    "while True:\n",
    "    user_guess = int(input(\"Guess the number :\"))\n",
    "    attempts += 1\n",
    "\n",
    "    if user_guess == target_number:\n",
    "        print(\"congratulations! You guessed the number n \" , attempts , \"attempts\" )\n",
    "\n",
    "    elif user_guess > target_number:\n",
    "        print(\"Too Large , please guess Lower number\")\n",
    "\n",
    "    else:\n",
    "        print(\"Too low , please guess higher number\")"
   ]
  }
 ],
 "metadata": {
  "kernelspec": {
   "display_name": "Python 3",
   "language": "python",
   "name": "python3"
  },
  "language_info": {
   "codemirror_mode": {
    "name": "ipython",
    "version": 3
   },
   "file_extension": ".py",
   "mimetype": "text/x-python",
   "name": "python",
   "nbconvert_exporter": "python",
   "pygments_lexer": "ipython3",
   "version": "3.11.4"
  }
 },
 "nbformat": 4,
 "nbformat_minor": 2
}
