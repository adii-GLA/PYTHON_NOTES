{
 "cells": [
  {
   "cell_type": "code",
   "execution_count": 119,
   "metadata": {},
   "outputs": [
    {
     "name": "stdout",
     "output_type": "stream",
     "text": [
      "----------------------------------------------------NUMPY-----------------------------------------------------\n"
     ]
    }
   ],
   "source": [
    "print(\"----------------------------------------------------NUMPY-----------------------------------------------------\")"
   ]
  },
  {
   "cell_type": "code",
   "execution_count": 120,
   "metadata": {},
   "outputs": [
    {
     "name": "stdout",
     "output_type": "stream",
     "text": [
      "[160 215 325 335]\n"
     ]
    }
   ],
   "source": [
    "import numpy as np\n",
    "a=np.array([32,43,65,67])\n",
    "# b=np.array([32,43,65,67])\n",
    "b=5\n",
    "print(a*b)"
   ]
  },
  {
   "cell_type": "code",
   "execution_count": 121,
   "metadata": {},
   "outputs": [
    {
     "ename": "ValueError",
     "evalue": "setting an array element with a sequence. The requested array has an inhomogeneous shape after 1 dimensions. The detected shape was (2,) + inhomogeneous part.",
     "output_type": "error",
     "traceback": [
      "\u001b[1;31m---------------------------------------------------------------------------\u001b[0m",
      "\u001b[1;31mValueError\u001b[0m                                Traceback (most recent call last)",
      "Cell \u001b[1;32mIn[121], line 2\u001b[0m\n\u001b[0;32m      1\u001b[0m \u001b[38;5;28;01mimport\u001b[39;00m \u001b[38;5;21;01mnumpy\u001b[39;00m \u001b[38;5;28;01mas\u001b[39;00m \u001b[38;5;21;01mnp\u001b[39;00m\n\u001b[1;32m----> 2\u001b[0m a\u001b[38;5;241m=\u001b[39m\u001b[43mnp\u001b[49m\u001b[38;5;241;43m.\u001b[39;49m\u001b[43marray\u001b[49m\u001b[43m(\u001b[49m\u001b[43m[\u001b[49m\u001b[43m[\u001b[49m\u001b[38;5;241;43m32\u001b[39;49m\u001b[43m,\u001b[49m\u001b[38;5;241;43m43\u001b[39;49m\u001b[43m,\u001b[49m\u001b[38;5;241;43m65\u001b[39;49m\u001b[43m,\u001b[49m\u001b[38;5;241;43m67\u001b[39;49m\u001b[43m]\u001b[49m\u001b[43m,\u001b[49m\u001b[43m[\u001b[49m\u001b[38;5;241;43m56\u001b[39;49m\u001b[43m,\u001b[49m\u001b[38;5;241;43m65\u001b[39;49m\u001b[43m,\u001b[49m\u001b[38;5;241;43m56\u001b[39;49m\u001b[43m,\u001b[49m\u001b[38;5;241;43m67\u001b[39;49m\u001b[43m,\u001b[49m\u001b[38;5;241;43m89\u001b[39;49m\u001b[43m]\u001b[49m\u001b[43m]\u001b[49m\u001b[43m)\u001b[49m\n\u001b[0;32m      3\u001b[0m \u001b[38;5;28mprint\u001b[39m(a)\n",
      "\u001b[1;31mValueError\u001b[0m: setting an array element with a sequence. The requested array has an inhomogeneous shape after 1 dimensions. The detected shape was (2,) + inhomogeneous part."
     ]
    }
   ],
   "source": [
    "import numpy as np\n",
    "a=np.array([[32,43,65,67],[56,65,56,67,89]])\n",
    "print(a)"
   ]
  },
  {
   "cell_type": "code",
   "execution_count": null,
   "metadata": {},
   "outputs": [
    {
     "name": "stdout",
     "output_type": "stream",
     "text": [
      "[53 65]\n",
      "<class 'numpy.ndarray'>\n"
     ]
    }
   ],
   "source": [
    "import numpy as np\n",
    "ar=np.array([53,65])\n",
    "print(ar)\n",
    "print(type(ar))"
   ]
  },
  {
   "cell_type": "code",
   "execution_count": null,
   "metadata": {},
   "outputs": [
    {
     "name": "stdout",
     "output_type": "stream",
     "text": [
      "[53 65 45 56 67]\n"
     ]
    }
   ],
   "source": [
    "#slicing\n",
    "import numpy as np\n",
    "ar=np.array([53,65,45,56,67,87,87])\n",
    "print(ar[:5])"
   ]
  },
  {
   "cell_type": "code",
   "execution_count": null,
   "metadata": {},
   "outputs": [
    {
     "name": "stdout",
     "output_type": "stream",
     "text": [
      "-----------------------------------inspecting an array--------------------------------------------\n"
     ]
    }
   ],
   "source": [
    "print(\"-----------------------------------inspecting an array--------------------------------------------\")"
   ]
  },
  {
   "cell_type": "code",
   "execution_count": null,
   "metadata": {},
   "outputs": [
    {
     "name": "stdout",
     "output_type": "stream",
     "text": [
      "[[53 65]\n",
      " [86 35]]\n",
      "[65 45 56]\n",
      "\n",
      "(2, 5)\n",
      "(2, 5)\n",
      "\n",
      "10\n",
      "10\n",
      "\n",
      "2\n",
      "2\n",
      "\n",
      "int32\n",
      "\n",
      "[['53' '65' '45' '56' '87']\n",
      " ['86' '35' '45' '56' '87']]\n"
     ]
    }
   ],
   "source": [
    "import numpy as np\n",
    "ar=np.array([[53,65,45,56,87],[86,35,45,56,87]])\n",
    "print(ar[0:2,0:2])\n",
    "print(ar[0,1:4])\n",
    "print()\n",
    "print(np.shape(ar))\n",
    "print(ar.shape)\n",
    "print()\n",
    "print(np.size(ar))\n",
    "print(ar.size)\n",
    "print()\n",
    "print(np.ndim(ar))\n",
    "print(ar.ndim)\n",
    "print()\n",
    "print(ar.dtype)\n",
    "print()\n",
    "print(ar.astype(str))\n"
   ]
  },
  {
   "cell_type": "code",
   "execution_count": null,
   "metadata": {},
   "outputs": [
    {
     "name": "stdout",
     "output_type": "stream",
     "text": [
      "--------------------------------Mathematical operations and functions on array--------------------------------\n"
     ]
    }
   ],
   "source": [
    "print(\"--------------------------------Mathematical operations and functions on array--------------------------------\")"
   ]
  },
  {
   "cell_type": "code",
   "execution_count": null,
   "metadata": {},
   "outputs": [
    {
     "name": "stdout",
     "output_type": "stream",
     "text": [
      "[108  10 130 130  14 134 134 156]\n"
     ]
    }
   ],
   "source": [
    "#--------------------------------------------------ADD---------------------------------------------------------------\n",
    "import numpy as np\n",
    "arr1=np.array([54,5,65,65,7,67,67,78])\n",
    "arr2=np.array([54,5,65,65,7,67,67,78])\n",
    "print(np.add(arr1,arr2))"
   ]
  },
  {
   "cell_type": "code",
   "execution_count": null,
   "metadata": {},
   "outputs": [
    {
     "name": "stdout",
     "output_type": "stream",
     "text": [
      "[0 0 0 0 0 0 0 0]\n"
     ]
    }
   ],
   "source": [
    "#-----------------------------------------------------SUBTRACT-------------------------------------------------------\n",
    "import numpy as np\n",
    "arr1=np.array([54,5,65,65,7,67,67,78])\n",
    "arr2=np.array([54,5,65,65,7,67,67,78])\n",
    "print(np.subtract(arr1,arr2))"
   ]
  },
  {
   "cell_type": "code",
   "execution_count": null,
   "metadata": {},
   "outputs": [
    {
     "name": "stdout",
     "output_type": "stream",
     "text": [
      "[2916   25 4225 4225   49 4489 4489 6084]\n"
     ]
    }
   ],
   "source": [
    "import numpy as np\n",
    "arr1=np.array([54,5,65,65,7,67,67,78])\n",
    "arr2=np.array([2])\n",
    "print(np.power(arr1,arr2))"
   ]
  },
  {
   "cell_type": "code",
   "execution_count": null,
   "metadata": {},
   "outputs": [
    {
     "name": "stdout",
     "output_type": "stream",
     "text": [
      "[7.34846923 2.23606798 8.06225775 8.06225775 2.64575131 8.18535277\n",
      " 8.18535277 8.83176087]\n"
     ]
    }
   ],
   "source": [
    "import numpy as np\n",
    "arr1=np.array([54,5,65,65,7,67,67,78])\n",
    "print(np.sqrt(arr1))"
   ]
  },
  {
   "cell_type": "code",
   "execution_count": null,
   "metadata": {},
   "outputs": [
    {
     "name": "stdout",
     "output_type": "stream",
     "text": [
      "----------------------------combining and splitting Arrays------------------------------------------------\n"
     ]
    }
   ],
   "source": [
    "print(\"----------------------------combining and splitting Arrays------------------------------------------------\")"
   ]
  },
  {
   "cell_type": "code",
   "execution_count": null,
   "metadata": {},
   "outputs": [
    {
     "name": "stdout",
     "output_type": "stream",
     "text": [
      "[54  5 65 65  7 67 67 78 54  5 65 65  7 67 67 78]\n"
     ]
    }
   ],
   "source": [
    "#concatenate\n",
    "import numpy as np\n",
    "arr1=np.array([54,5,65,65,7,67,67,78])\n",
    "arr2=np.array([54,5,65,65,7,67,67,78])\n",
    "print(np.concatenate(([arr1,arr2])))"
   ]
  },
  {
   "cell_type": "code",
   "execution_count": null,
   "metadata": {},
   "outputs": [
    {
     "name": "stdout",
     "output_type": "stream",
     "text": [
      "[[54  5 65 65 24  5 65 65]\n",
      " [ 7 67 67 78  7 67 67 78]]\n",
      "[[54  5 65 65 24  5 65 65]\n",
      " [ 7 67 67 78  7 67 67 78]]\n"
     ]
    }
   ],
   "source": [
    "import numpy as np\n",
    "arr1=np.array([[54,5,65,65],[7,67,67,78]])\n",
    "arr2=np.array([[24,5,65,65],[7,67,67,78]])\n",
    "print(np.concatenate([arr1,arr2],axis=1))\n",
    "print(np.hstack([arr1,arr2]))"
   ]
  },
  {
   "cell_type": "code",
   "execution_count": 126,
   "metadata": {},
   "outputs": [
    {
     "name": "stdout",
     "output_type": "stream",
     "text": [
      "[[54  5 65 65]\n",
      " [ 7 67 67 78]\n",
      " [24  5 65 65]\n",
      " [ 7 67 67 78]]\n",
      "[[54  5 65 65]\n",
      " [ 7 67 67 78]\n",
      " [24  5 65 65]\n",
      " [ 7 67 67 78]]\n"
     ]
    }
   ],
   "source": [
    "import numpy as np\n",
    "arr1=np.array([[54,5,65,65],[7,67,67,78]])\n",
    "arr2=np.array([[24,5,65,65],[7,67,67,78]])\n",
    "print(np.concatenate([arr1,arr2],axis=0))\n",
    "print(np.vstack([arr1,arr2]))"
   ]
  },
  {
   "cell_type": "code",
   "execution_count": 125,
   "metadata": {},
   "outputs": [
    {
     "name": "stdout",
     "output_type": "stream",
     "text": [
      "[array([54,  5, 65]), array([65,  7, 67]), array([67, 78, 56])]\n"
     ]
    }
   ],
   "source": [
    "#split\n",
    "import numpy as np\n",
    "arr1=np.array([54,5,65,65,7,67,67,78,56])\n",
    "brr=np.array_split(arr1,3)\n",
    "print(brr)"
   ]
  },
  {
   "cell_type": "code",
   "execution_count": 122,
   "metadata": {},
   "outputs": [
    {
     "name": "stdout",
     "output_type": "stream",
     "text": [
      "[54  5 65 65  7 67 67 78 90]\n"
     ]
    }
   ],
   "source": [
    "import numpy as np\n",
    "arr1=np.array([54,5,65,65,7,67,67,78])\n",
    "print(np.append(arr1,[90]))"
   ]
  },
  {
   "cell_type": "code",
   "execution_count": 123,
   "metadata": {},
   "outputs": [
    {
     "name": "stdout",
     "output_type": "stream",
     "text": [
      "[54 30  5 65 65  7 67 67 78]\n"
     ]
    }
   ],
   "source": [
    "import numpy as np\n",
    "arr1=np.array([54,5,65,65,7,67,67,78])\n",
    "print(np.insert(arr1,1,30))"
   ]
  },
  {
   "cell_type": "code",
   "execution_count": 124,
   "metadata": {},
   "outputs": [
    {
     "name": "stdout",
     "output_type": "stream",
     "text": [
      "[ 5 65 65  7 67 67 78]\n"
     ]
    }
   ],
   "source": [
    "import numpy as np\n",
    "arr1=np.array([54,5,65,65,7,67,67,78])\n",
    "print(np.delete(arr1,0))"
   ]
  },
  {
   "cell_type": "code",
   "execution_count": 130,
   "metadata": {},
   "outputs": [
    {
     "name": "stdout",
     "output_type": "stream",
     "text": [
      "[[54  5 65 65]]\n"
     ]
    }
   ],
   "source": [
    "import numpy as np\n",
    "arr1=np.array([[54,5,65,65],[7,67,67,78]])\n",
    "print(np.delete(arr1,1,axis=0))"
   ]
  },
  {
   "cell_type": "code",
   "execution_count": 132,
   "metadata": {},
   "outputs": [
    {
     "name": "stdout",
     "output_type": "stream",
     "text": [
      "----------------------------------------------Search,sort and filter-----------------------------------------\n"
     ]
    }
   ],
   "source": [
    "print(\"----------------------------------------------Search,sort and filter-----------------------------------------\")"
   ]
  },
  {
   "cell_type": "code",
   "execution_count": 136,
   "metadata": {},
   "outputs": [
    {
     "name": "stdout",
     "output_type": "stream",
     "text": [
      "[ 5  7 54 65 65 67 67 78]\n",
      "[[ 5 24 65 95]\n",
      " [ 7 67 67 78]]\n"
     ]
    }
   ],
   "source": [
    "import numpy as np\n",
    "arr1=np.array([54,5,65,65,7,67,67,78])\n",
    "arr2=np.array([[24,5,95,65],[7,67,67,78]])\n",
    "print(np.sort(arr1))\n",
    "print(np.sort(arr2))"
   ]
  },
  {
   "cell_type": "code",
   "execution_count": 141,
   "metadata": {},
   "outputs": [
    {
     "name": "stdout",
     "output_type": "stream",
     "text": [
      "(array([1], dtype=int64),)\n"
     ]
    }
   ],
   "source": [
    "import numpy as np\n",
    "arr1=np.array([54,5,65,65])\n",
    "s=np.where(arr1==5)\n",
    "print(s)"
   ]
  },
  {
   "cell_type": "code",
   "execution_count": 146,
   "metadata": {},
   "outputs": [
    {
     "name": "stdout",
     "output_type": "stream",
     "text": [
      "[54 65]\n"
     ]
    }
   ],
   "source": [
    "#filter\n",
    "import numpy as np\n",
    "arr1=np.array([54,5,65,65])\n",
    "fa=[True,False,True,False]\n",
    "new=arr1[fa]\n",
    "print(new)"
   ]
  },
  {
   "cell_type": "code",
   "execution_count": 149,
   "metadata": {},
   "outputs": [
    {
     "name": "stdout",
     "output_type": "stream",
     "text": [
      "[65 95]\n"
     ]
    }
   ],
   "source": [
    "import numpy as np\n",
    "arr1=np.array([54,5,65,95])\n",
    "fa=arr1>60\n",
    "new=arr1[fa]\n",
    "print(new)"
   ]
  },
  {
   "cell_type": "code",
   "execution_count": null,
   "metadata": {},
   "outputs": [],
   "source": [
    "print(\"----------------------------------------------Aggergation function-----------------------------------------\")"
   ]
  },
  {
   "cell_type": "code",
   "execution_count": 155,
   "metadata": {},
   "outputs": [
    {
     "name": "stdout",
     "output_type": "stream",
     "text": [
      "233\n",
      "23\n",
      "89\n",
      "4\n",
      "58.25\n",
      "[ 23  77 144 233]\n",
      "[     23    1242   83214 7406046]\n"
     ]
    }
   ],
   "source": [
    "import numpy as np\n",
    "b=np.array([23,54,67,89])\n",
    "print(np.sum(b))\n",
    "print(np.min(b))\n",
    "print(np.max(b))\n",
    "print(np.size(b))\n",
    "print(np.mean(b))\n",
    "print(np.cumsum(b))\n",
    "print(np.cumprod(b))"
   ]
  },
  {
   "cell_type": "code",
   "execution_count": 163,
   "metadata": {},
   "outputs": [
    {
     "name": "stdout",
     "output_type": "stream",
     "text": [
      "26502\n"
     ]
    }
   ],
   "source": [
    "import numpy as np\n",
    "arr1=np.array([54,5,65,65,7,67,67,78])\n",
    "arr2=np.array([54,5,65,65,7,67,67,78])\n",
    "c=np.cumprod([arr1,arr2],axis=0)\n",
    "print(c[1].sum())"
   ]
  },
  {
   "cell_type": "code",
   "execution_count": 166,
   "metadata": {},
   "outputs": [
    {
     "name": "stdout",
     "output_type": "stream",
     "text": [
      "---------------------------------------------statical function------------------------------------------------\n"
     ]
    }
   ],
   "source": [
    "print(\"---------------------------------------------statical function------------------------------------------------\")"
   ]
  },
  {
   "cell_type": "code",
   "execution_count": 176,
   "metadata": {},
   "outputs": [
    {
     "name": "stdout",
     "output_type": "stream",
     "text": [
      "59.857142857142854\n",
      "65.0\n",
      "34\n",
      "21.879073964659025\n"
     ]
    }
   ],
   "source": [
    "import numpy as np\n",
    "import statistics as ss\n",
    "arr4=np.array([45,34,67,34,65,98,76])\n",
    "print(np.mean(arr4))\n",
    "print(np.median(arr4))\n",
    "print(ss.mode(arr4))\n",
    "print(np.std(arr4))"
   ]
  },
  {
   "cell_type": "code",
   "execution_count": 182,
   "metadata": {},
   "outputs": [
    {
     "name": "stdout",
     "output_type": "stream",
     "text": [
      "[[ 1.         -0.99484975]\n",
      " [-0.99484975  1.        ]]\n"
     ]
    }
   ],
   "source": [
    "import numpy as np\n",
    "arr1=([12,23,34,56,67,78,89])\n",
    "arr2=([98,87,76,65,54,43,32])\n",
    "print(np.corrcoef([arr1,arr2]))"
   ]
  },
  {
   "cell_type": "code",
   "execution_count": 4,
   "metadata": {},
   "outputs": [
    {
     "name": "stdout",
     "output_type": "stream",
     "text": [
      "[23 45 67 89]\n",
      "[]\n"
     ]
    }
   ],
   "source": [
    "#How to create an empty and a full NumPy array?\n",
    "import numpy as np\n",
    "ar1=np.array([])\n",
    "ar=np.array([23,45,67,89])\n",
    "print(ar)\n",
    "print(ar1)"
   ]
  },
  {
   "cell_type": "code",
   "execution_count": 5,
   "metadata": {},
   "outputs": [
    {
     "name": "stdout",
     "output_type": "stream",
     "text": [
      "[0 0 0 0]\n"
     ]
    }
   ],
   "source": [
    "#Create a Numpy array filled with all zeros\n",
    "import numpy as np\n",
    "arr=np.array([0,0,0,0])\n",
    "print(arr)"
   ]
  }
 ],
 "metadata": {
  "kernelspec": {
   "display_name": "Python 3",
   "language": "python",
   "name": "python3"
  },
  "language_info": {
   "codemirror_mode": {
    "name": "ipython",
    "version": 3
   },
   "file_extension": ".py",
   "mimetype": "text/x-python",
   "name": "python",
   "nbconvert_exporter": "python",
   "pygments_lexer": "ipython3",
   "version": "3.11.4"
  }
 },
 "nbformat": 4,
 "nbformat_minor": 2
}
