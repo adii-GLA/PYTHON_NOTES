{
 "cells": [
  {
   "cell_type": "code",
   "execution_count": 16,
   "metadata": {},
   "outputs": [
    {
     "name": "stdout",
     "output_type": "stream",
     "text": [
      "this is python\n",
      "my name is aditya\n",
      "i live in mathura \n"
     ]
    }
   ],
   "source": [
    "#---------------------------READ----------------------------\n",
    "f=open(\"text.txt\",\"r\")\n",
    "merefile=f.read()\n",
    "print(merefile)\n",
    "f.close()"
   ]
  },
  {
   "cell_type": "code",
   "execution_count": 19,
   "metadata": {},
   "outputs": [
    {
     "name": "stdout",
     "output_type": "stream",
     "text": [
      "this is python\n",
      "my name is adit\n"
     ]
    }
   ],
   "source": [
    "f=open(\"text.txt\",\"r\")\n",
    "myfile=f.read(30)\n",
    "print(myfile)\n",
    "f.close()"
   ]
  },
  {
   "cell_type": "code",
   "execution_count": 21,
   "metadata": {},
   "outputs": [
    {
     "name": "stdout",
     "output_type": "stream",
     "text": [
      "this is python\n",
      "\n",
      "my name is aditya\n",
      "\n",
      "i live in mathura \n"
     ]
    }
   ],
   "source": [
    "f=open(\"text.txt\",\"r\")\n",
    "for x in f:\n",
    "    print(x)"
   ]
  },
  {
   "cell_type": "code",
   "execution_count": 6,
   "metadata": {},
   "outputs": [
    {
     "name": "stdout",
     "output_type": "stream",
     "text": [
      "['aditahuhhjjjjjjjjjjjjjjjjjjjjjjj\\n', 'sssssssssssssssssssssss\\n', 'sssssssssssssssssssssss\\n', '\\n', 'sssssssssssssssssssssss\\n', 'sssssssssssssssssssssss\\n', 'sssssssssssssssssssssss\\n', 'sssssssssssssssssssssss\\n', 'sssssssssssssssssssssss\\n', 's34567890987654323456789098765sdfghjk\\n', 'asdfghjklkjhhhhhg']\n"
     ]
    }
   ],
   "source": [
    "#------read file line by line-----------------------------\n",
    "f=open(\"text11.txt\",\"r\")\n",
    "print(f.readlines())\n",
    "f.close()"
   ]
  },
  {
   "cell_type": "code",
   "execution_count": 7,
   "metadata": {},
   "outputs": [
    {
     "name": "stdout",
     "output_type": "stream",
     "text": [
      "['gla', 'gla']\n"
     ]
    }
   ],
   "source": [
    "a=[\"gla\"]*2\n",
    "print(a)"
   ]
  },
  {
   "cell_type": "code",
   "execution_count": 12,
   "metadata": {},
   "outputs": [
    {
     "ename": "AttributeError",
     "evalue": "'set' object has no attribute 'count'",
     "output_type": "error",
     "traceback": [
      "\u001b[1;31m---------------------------------------------------------------------------\u001b[0m",
      "\u001b[1;31mAttributeError\u001b[0m                            Traceback (most recent call last)",
      "Cell \u001b[1;32mIn[12], line 2\u001b[0m\n\u001b[0;32m      1\u001b[0m num\u001b[38;5;241m=\u001b[39m\u001b[38;5;28mset\u001b[39m([\u001b[38;5;241m1\u001b[39m,\u001b[38;5;241m3\u001b[39m,\u001b[38;5;241m3\u001b[39m,\u001b[38;5;241m3\u001b[39m,\u001b[38;5;241m5\u001b[39m,\u001b[38;5;241m6\u001b[39m,\u001b[38;5;241m7\u001b[39m])\n\u001b[1;32m----> 2\u001b[0m \u001b[38;5;28mprint\u001b[39m(\u001b[43mnum\u001b[49m\u001b[38;5;241;43m.\u001b[39;49m\u001b[43mcount\u001b[49m(\u001b[38;5;241m3\u001b[39m))\n",
      "\u001b[1;31mAttributeError\u001b[0m: 'set' object has no attribute 'count'"
     ]
    }
   ],
   "source": [
    "num=set([1,3,3,3,5,6,7])\n",
    "print(num.count(3))"
   ]
  },
  {
   "cell_type": "code",
   "execution_count": 21,
   "metadata": {},
   "outputs": [
    {
     "name": "stdout",
     "output_type": "stream",
     "text": [
      "['jhon', 'is', 'good student']\n"
     ]
    }
   ],
   "source": [
    "str=\"jhon is good student\"\n",
    "print(str.split(\" \",2))"
   ]
  },
  {
   "cell_type": "code",
   "execution_count": 29,
   "metadata": {},
   "outputs": [
    {
     "name": "stdout",
     "output_type": "stream",
     "text": [
      "[100, 200, 300, 400, 2]\n"
     ]
    }
   ],
   "source": [
    "m=[100,200,300,400]\n",
    "m.append(2)\n",
    "print(m)"
   ]
  },
  {
   "cell_type": "code",
   "execution_count": 25,
   "metadata": {},
   "outputs": [
    {
     "name": "stdout",
     "output_type": "stream",
     "text": [
      "1 2\n"
     ]
    }
   ],
   "source": [
    "a=1\n",
    "b=2\n",
    "print(a,b)"
   ]
  },
  {
   "cell_type": "code",
   "execution_count": null,
   "metadata": {},
   "outputs": [],
   "source": []
  },
  {
   "cell_type": "code",
   "execution_count": 27,
   "metadata": {},
   "outputs": [
    {
     "name": "stdout",
     "output_type": "stream",
     "text": [
      "3 2\n"
     ]
    }
   ],
   "source": [
    "def fun(x=1,y=2):\n",
    "    x=x+y\n",
    "    y+=1\n",
    "    print(x,y)\n",
    "fun(y=1,x=2)"
   ]
  },
  {
   "cell_type": "code",
   "execution_count": 34,
   "metadata": {},
   "outputs": [
    {
     "name": "stdout",
     "output_type": "stream",
     "text": [
      "[1, 2, 3, 4, [5, 6, 7, 8]]\n"
     ]
    }
   ],
   "source": [
    "codes=[1,2,3,4]\n",
    "codes.append([5,6,7,8])\n",
    "print(codes)"
   ]
  },
  {
   "cell_type": "code",
   "execution_count": 43,
   "metadata": {},
   "outputs": [
    {
     "ename": "TypeError",
     "evalue": "unsupported operand type(s) for +: 'int' and 'tuple'",
     "output_type": "error",
     "traceback": [
      "\u001b[1;31m---------------------------------------------------------------------------\u001b[0m",
      "\u001b[1;31mTypeError\u001b[0m                                 Traceback (most recent call last)",
      "Cell \u001b[1;32mIn[43], line 4\u001b[0m\n\u001b[0;32m      2\u001b[0m t2\u001b[38;5;241m=\u001b[39m(\u001b[38;5;241m3\u001b[39m,\u001b[38;5;241m5\u001b[39m)\n\u001b[0;32m      3\u001b[0m \u001b[38;5;66;03m# t1+=5\u001b[39;00m\n\u001b[1;32m----> 4\u001b[0m \u001b[38;5;28mprint\u001b[39m(\u001b[43mt1\u001b[49m\u001b[38;5;241;43m+\u001b[39;49m\u001b[43mt2\u001b[49m)\n",
      "\u001b[1;31mTypeError\u001b[0m: unsupported operand type(s) for +: 'int' and 'tuple'"
     ]
    }
   ],
   "source": [
    "t1=(1)\n",
    "t2=(3,5)\n",
    "# t1+=5\n",
    "print(t1+t2)"
   ]
  },
  {
   "cell_type": "code",
   "execution_count": 49,
   "metadata": {},
   "outputs": [
    {
     "name": "stdout",
     "output_type": "stream",
     "text": [
      "7\n"
     ]
    }
   ],
   "source": [
    "t=(1,2,3,4,5,6,7,8,9,2)\n",
    "print(t[t[t[1]]-7])"
   ]
  },
  {
   "cell_type": "code",
   "execution_count": 57,
   "metadata": {},
   "outputs": [
    {
     "name": "stdout",
     "output_type": "stream",
     "text": [
      "5 None [3, 7, 9]\n"
     ]
    }
   ],
   "source": [
    "l=[1,3,5,7,9]\n",
    "print(l.pop(-3),end=' ')\n",
    "print(l.remove(l[0]),end=' ')\n",
    "print(l)"
   ]
  },
  {
   "cell_type": "code",
   "execution_count": 65,
   "metadata": {},
   "outputs": [
    {
     "name": "stdout",
     "output_type": "stream",
     "text": [
      "11\n"
     ]
    }
   ],
   "source": [
    "l1=list()\n",
    "l1.append([1,[2,3],4])\n",
    "l1.extend([7,8,9])\n",
    "# print(l1[0][1][1])\n",
    "print(l1[0][1][1]+l1[2])"
   ]
  },
  {
   "cell_type": "code",
   "execution_count": 11,
   "metadata": {},
   "outputs": [
    {
     "name": "stdout",
     "output_type": "stream",
     "text": [
      "(200, 300)\n"
     ]
    }
   ],
   "source": [
    "m=(100,200,300,9)\n",
    "print(m[1:-1])"
   ]
  },
  {
   "cell_type": "code",
   "execution_count": 68,
   "metadata": {},
   "outputs": [
    {
     "ename": "SyntaxError",
     "evalue": "invalid syntax (3675838484.py, line 5)",
     "output_type": "error",
     "traceback": [
      "\u001b[1;36m  Cell \u001b[1;32mIn[68], line 5\u001b[1;36m\u001b[0m\n\u001b[1;33m    break:\u001b[0m\n\u001b[1;37m         ^\u001b[0m\n\u001b[1;31mSyntaxError\u001b[0m\u001b[1;31m:\u001b[0m invalid syntax\n"
     ]
    }
   ],
   "source": [
    "m=[1,2]\n",
    "for i in m:\n",
    "    print(\"GLA\")\n",
    "    m.append(i)\n",
    "    break:"
   ]
  },
  {
   "cell_type": "code",
   "execution_count": null,
   "metadata": {},
   "outputs": [],
   "source": [
    "t=[1,2,3,4,5,6,]"
   ]
  },
  {
   "cell_type": "code",
   "execution_count": 26,
   "metadata": {},
   "outputs": [
    {
     "name": "stdout",
     "output_type": "stream",
     "text": [
      "hii my name is aditya!\n"
     ]
    }
   ],
   "source": [
    "# f=open(\"text1.txt\",\"x\")\n",
    "f=open(\"text1.txt\",\"w\")\n",
    "f.write(\"hii my name is aditya!\")\n",
    "f=open(\"text1.txt\",\"r\")\n",
    "myfile=f.read()\n",
    "print(myfile)\n",
    "f.close()"
   ]
  },
  {
   "cell_type": "code",
   "execution_count": 29,
   "metadata": {},
   "outputs": [
    {
     "name": "stdout",
     "output_type": "stream",
     "text": [
      "\n",
      " hii my name is adii!\n"
     ]
    }
   ],
   "source": [
    "#append\n",
    "f=open(\"text1.txt\",\"w\")\n",
    "f=open(\"text1.txt\",\"a\")\n",
    "f.write(\"\\n hii my name is adii!\")\n",
    "f=open(\"text1.txt\",\"r\")\n",
    "myfile=f.read()\n",
    "print(myfile)\n",
    "f.close()"
   ]
  },
  {
   "cell_type": "code",
   "execution_count": 45,
   "metadata": {},
   "outputs": [
    {
     "name": "stdout",
     "output_type": "stream",
     "text": [
      "this is python\n",
      "my name is aditya\n",
      "i live in mathura \n"
     ]
    }
   ],
   "source": [
    "import os\n",
    "old_file_name=\"text0.txt\"\n",
    "new_file_name=\"text11.txt\"\n",
    "f=open(\"text0.txt\",\"r\")\n",
    "myfile=f.read()\n",
    "print(myfile)\n",
    "f=open(\"text11.txt\",\"w\")\n",
    "f.write(myfile)\n",
    "os.remove(old_file_name)"
   ]
  }
 ],
 "metadata": {
  "kernelspec": {
   "display_name": "Python 3",
   "language": "python",
   "name": "python3"
  },
  "language_info": {
   "codemirror_mode": {
    "name": "ipython",
    "version": 3
   },
   "file_extension": ".py",
   "mimetype": "text/x-python",
   "name": "python",
   "nbconvert_exporter": "python",
   "pygments_lexer": "ipython3",
   "version": "3.11.4"
  }
 },
 "nbformat": 4,
 "nbformat_minor": 2
}
