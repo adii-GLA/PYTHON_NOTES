{
 "cells": [
  {
   "cell_type": "code",
   "execution_count": 3,
   "metadata": {},
   "outputs": [
    {
     "name": "stdout",
     "output_type": "stream",
     "text": [
      "{'name': 'rohan', 'class': 4, 'rollno': 23, 'age': 9}\n"
     ]
    }
   ],
   "source": [
    "# HOW TO CREATE DICTIONARY\n",
    "student={\n",
    "    \"name\":\"rohan\",\n",
    "    \"class\":4,\n",
    "    \"rollno\":23,\n",
    "    \"age\":9\n",
    "}\n",
    "print(student)"
   ]
  },
  {
   "cell_type": "code",
   "execution_count": 4,
   "metadata": {},
   "outputs": [
    {
     "name": "stdout",
     "output_type": "stream",
     "text": [
      "rohan\n"
     ]
    }
   ],
   "source": [
    "#only print an specific value\n",
    "student={\n",
    "    \"name\":\"rohan\",\n",
    "    \"class\":4,\n",
    "    \"rollno\":23,\n",
    "    \"age\":9\n",
    "}\n",
    "print(student[\"name\"])"
   ]
  },
  {
   "cell_type": "code",
   "execution_count": 5,
   "metadata": {},
   "outputs": [
    {
     "name": "stdout",
     "output_type": "stream",
     "text": [
      "{'name': 'aditya', 'class': 4, 'rollno': 23, 'age': 9}\n"
     ]
    }
   ],
   "source": [
    "# TO CHANGE THE VALUE OF ANY KEY\n",
    "student={\n",
    "    \"name\":\"rohan\",\n",
    "    \"class\":4,\n",
    "    \"rollno\":23,\n",
    "    \"age\":9\n",
    "}\n",
    "student[\"name\"]=\"aditya\"\n",
    "print(student)"
   ]
  },
  {
   "cell_type": "code",
   "execution_count": 8,
   "metadata": {},
   "outputs": [
    {
     "name": "stdout",
     "output_type": "stream",
     "text": [
      "4\n"
     ]
    }
   ],
   "source": [
    "#TO CHECK LENGTH\n",
    "student={\n",
    "    \"name\":\"rohan\",\n",
    "    \"class\":4,\n",
    "    \"rollno\":\"23%\",\n",
    "    \"age\":9\n",
    "}\n",
    "x=len(student)\n",
    "print(x)"
   ]
  },
  {
   "cell_type": "code",
   "execution_count": 9,
   "metadata": {},
   "outputs": [
    {
     "name": "stdout",
     "output_type": "stream",
     "text": [
      "{'name': 'rohan', 'class': 4, 'rollno': 23, 'age': 9, 'marks': '95%'}\n"
     ]
    }
   ],
   "source": [
    "# TO ADD SOMETHING IN DICTIONARY\n",
    "student={\n",
    "    \"name\":\"rohan\",\n",
    "    \"class\":4,\n",
    "    \"rollno\":23,\n",
    "    \"age\":9\n",
    "}\n",
    "student[\"marks\"]=\"95%\"\n",
    "print(student)"
   ]
  },
  {
   "cell_type": "code",
   "execution_count": 11,
   "metadata": {},
   "outputs": [
    {
     "name": "stdout",
     "output_type": "stream",
     "text": [
      "{'name': 'rohan', 'rollno': 23, 'age': 9}\n"
     ]
    }
   ],
   "source": [
    "# TO REMOVE SOMETHING FROM DICTIONARY\n",
    "student={\n",
    "    \"name\":\"rohan\",\n",
    "    \"class\":4,\n",
    "    \"rollno\":23,\n",
    "    \"age\":9\n",
    "}\n",
    "student.pop(\"class\")\n",
    "print(student)"
   ]
  },
  {
   "cell_type": "code",
   "execution_count": 12,
   "metadata": {},
   "outputs": [
    {
     "ename": "NameError",
     "evalue": "name 'student' is not defined",
     "output_type": "error",
     "traceback": [
      "\u001b[1;31m---------------------------------------------------------------------------\u001b[0m",
      "\u001b[1;31mNameError\u001b[0m                                 Traceback (most recent call last)",
      "\u001b[1;32mc:\\Users\\DELL\\Desktop\\PYTHON PRACTICE\\a5.dictionary.ipynb Cell 7\u001b[0m line \u001b[0;36m8\n\u001b[0;32m      <a href='vscode-notebook-cell:/c%3A/Users/DELL/Desktop/PYTHON%20PRACTICE/a5.dictionary.ipynb#W6sZmlsZQ%3D%3D?line=0'>1</a>\u001b[0m student\u001b[39m=\u001b[39m{\n\u001b[0;32m      <a href='vscode-notebook-cell:/c%3A/Users/DELL/Desktop/PYTHON%20PRACTICE/a5.dictionary.ipynb#W6sZmlsZQ%3D%3D?line=1'>2</a>\u001b[0m     \u001b[39m\"\u001b[39m\u001b[39mname\u001b[39m\u001b[39m\"\u001b[39m:\u001b[39m\"\u001b[39m\u001b[39mrohan\u001b[39m\u001b[39m\"\u001b[39m,\n\u001b[0;32m      <a href='vscode-notebook-cell:/c%3A/Users/DELL/Desktop/PYTHON%20PRACTICE/a5.dictionary.ipynb#W6sZmlsZQ%3D%3D?line=2'>3</a>\u001b[0m     \u001b[39m\"\u001b[39m\u001b[39mclass\u001b[39m\u001b[39m\"\u001b[39m:\u001b[39m4\u001b[39m,\n\u001b[0;32m      <a href='vscode-notebook-cell:/c%3A/Users/DELL/Desktop/PYTHON%20PRACTICE/a5.dictionary.ipynb#W6sZmlsZQ%3D%3D?line=3'>4</a>\u001b[0m     \u001b[39m\"\u001b[39m\u001b[39mrollno\u001b[39m\u001b[39m\"\u001b[39m:\u001b[39m23\u001b[39m,\n\u001b[0;32m      <a href='vscode-notebook-cell:/c%3A/Users/DELL/Desktop/PYTHON%20PRACTICE/a5.dictionary.ipynb#W6sZmlsZQ%3D%3D?line=4'>5</a>\u001b[0m     \u001b[39m\"\u001b[39m\u001b[39mage\u001b[39m\u001b[39m\"\u001b[39m:\u001b[39m9\u001b[39m\n\u001b[0;32m      <a href='vscode-notebook-cell:/c%3A/Users/DELL/Desktop/PYTHON%20PRACTICE/a5.dictionary.ipynb#W6sZmlsZQ%3D%3D?line=5'>6</a>\u001b[0m }\n\u001b[0;32m      <a href='vscode-notebook-cell:/c%3A/Users/DELL/Desktop/PYTHON%20PRACTICE/a5.dictionary.ipynb#W6sZmlsZQ%3D%3D?line=6'>7</a>\u001b[0m \u001b[39mdel\u001b[39;00m student\n\u001b[1;32m----> <a href='vscode-notebook-cell:/c%3A/Users/DELL/Desktop/PYTHON%20PRACTICE/a5.dictionary.ipynb#W6sZmlsZQ%3D%3D?line=7'>8</a>\u001b[0m \u001b[39mprint\u001b[39m(student)\n",
      "\u001b[1;31mNameError\u001b[0m: name 'student' is not defined"
     ]
    }
   ],
   "source": [
    "# TO DELETE FULL DICTIONARY\n",
    "student={\n",
    "    \"name\":\"rohan\",\n",
    "    \"class\":4,\n",
    "    \"rollno\":23,\n",
    "    \"age\":9\n",
    "}\n",
    "del student\n",
    "print(student)"
   ]
  },
  {
   "cell_type": "code",
   "execution_count": 13,
   "metadata": {},
   "outputs": [
    {
     "name": "stdout",
     "output_type": "stream",
     "text": [
      "{}\n"
     ]
    }
   ],
   "source": [
    "# TO CLEAR ITEMS FROM DICTIONARY\n",
    "student={\n",
    "    \"name\":\"rohan\",\n",
    "    \"class\":4,\n",
    "    \"rollno\":23,\n",
    "    \"age\":9\n",
    "}\n",
    "student.clear()\n",
    "print(student)"
   ]
  },
  {
   "cell_type": "code",
   "execution_count": 16,
   "metadata": {},
   "outputs": [
    {
     "name": "stdout",
     "output_type": "stream",
     "text": [
      "{'name': 'rohan', 'class': 4, 'rollno': 23, 'age': 9}\n",
      "{'name': 'rohan', 'class': 4, 'rollno': 23, 'age': 9}\n"
     ]
    }
   ],
   "source": [
    "# TO MAKE COPY OF A DICTIONARY\n",
    "student={\n",
    "    \"name\":\"rohan\",\n",
    "    \"class\":4,\n",
    "    \"rollno\":23,\n",
    "    \"age\":9\n",
    "}\n",
    "balak=student.copy()\n",
    "print(student)\n",
    "print(balak)"
   ]
  },
  {
   "cell_type": "code",
   "execution_count": null,
   "metadata": {},
   "outputs": [],
   "source": [
    "#add all dictionary or merge all dictionary in one dictionary\n",
    "dic1={1:10,2:20}\n",
    "dic2={3:30,4:40}\n",
    "dic3={5:50,6:60}\n",
    "dic4=(dic1,dic2,dic3)\n",
    "print(dic4)"
   ]
  }
 ],
 "metadata": {
  "kernelspec": {
   "display_name": "Python 3",
   "language": "python",
   "name": "python3"
  },
  "language_info": {
   "codemirror_mode": {
    "name": "ipython",
    "version": 3
   },
   "file_extension": ".py",
   "mimetype": "text/x-python",
   "name": "python",
   "nbconvert_exporter": "python",
   "pygments_lexer": "ipython3",
   "version": "3.11.4"
  }
 },
 "nbformat": 4,
 "nbformat_minor": 2
}
