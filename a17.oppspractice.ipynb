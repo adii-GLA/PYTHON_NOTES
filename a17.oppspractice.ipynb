{
 "cells": [
  {
   "cell_type": "code",
   "execution_count": 6,
   "metadata": {},
   "outputs": [
    {
     "name": "stdout",
     "output_type": "stream",
     "text": [
      "Car 1: The Psychology of Money abc 202021616\n",
      "The The Psychology of Money abc 202021616's is taken.\n",
      "You have already returned this book.\n",
      "\n",
      "Car 2: The power of subconcious mind xyz 205455\n",
      "The The power of subconcious mind xyz 205455's is taken.\n",
      "The The power of subconcious mind xyz 205455's is taken.\n",
      "You have already returned this book.\n"
     ]
    }
   ],
   "source": [
    "class Book():\n",
    "    def __init__(self,Title,Author,ISBN):\n",
    "        self._title = Title  \n",
    "        self._author = Author  \n",
    "        self._ISBN = ISBN  \n",
    "        self.Check_in = False \n",
    "    def check_in(self):\n",
    "        if not self.Check_in:\n",
    "            print(f\"The {self._title} {self._author} {self._ISBN}'s is taken.\")\n",
    "            self._is_running = True\n",
    "        else:\n",
    "            print(\"You have already taken this book.\")\n",
    "    def check_out(self):\n",
    "        if self.Check_in:\n",
    "            print(f\"The {self._title} {self._author} {self._ISBN}'s is returned.\")\n",
    "            self._is_running = False\n",
    "        else:\n",
    "            print(\"You have already returned this book.\")\n",
    "    def get_info(self):\n",
    "        return (f\"{self._title} {self._author} {self._ISBN}\")\n",
    "BookA = Book(\"The Psychology of Money\", \"abc\", 202021616)\n",
    "BookB = Book(\"The power of subconcious mind\", \"xyz\", \"205455\")\n",
    "print(f\"Car 1: {BookA.get_info()}\")\n",
    "BookA.check_in()\n",
    "BookB.check_out()\n",
    "print(f\"\\nCar 2: {BookB.get_info()}\")\n",
    "BookB.check_in()\n",
    "BookB.check_in()\n",
    "BookB.check_out()"
   ]
  },
  {
   "cell_type": "code",
   "execution_count": 21,
   "metadata": {},
   "outputs": [
    {
     "name": "stdout",
     "output_type": "stream",
     "text": [
      "2022 Toyota Camry, 4-door car\n",
      "2022 Harley-Davidson Street Glide, 2-wheeler motorcycle\n"
     ]
    }
   ],
   "source": [
    "class Vehicle:\n",
    "    def __init__(self, make, model, year):\n",
    "        self.make = make\n",
    "        self.model = model\n",
    "        self.year = year\n",
    "\n",
    "    def display_info(self):\n",
    "        return f\"{self.year} {self.make} {self.model}\"\n",
    "\n",
    "\n",
    "class Car(Vehicle):\n",
    "    def __init__(self, make, model, year, num_doors):\n",
    "        Vehicle.__init__(self, make, model, year)\n",
    "        self.num_doors = num_doors\n",
    "\n",
    "    def display_info(self):\n",
    "        return f\"{Vehicle.display_info(self)}, {self.num_doors}-door car\"\n",
    "\n",
    "\n",
    "class Motorcycle(Vehicle):\n",
    "    def __init__(self, make, model, year, num_wheels):\n",
    "        Vehicle.__init__(self, make, model, year)\n",
    "        self.num_wheels = num_wheels\n",
    "\n",
    "    def display_info(self):\n",
    "        return f\"{Vehicle.display_info(self)}, {self.num_wheels}-wheeler motorcycle\"\n",
    "\n",
    "\n",
    "car1 = Car(\"Toyota\", \"Camry\", 2022, 4)\n",
    "motorcycle1 = Motorcycle(\"Harley-Davidson\", \"Street Glide\", 2022, 2)\n",
    "\n",
    "print(car1.display_info()) \n",
    "print(motorcycle1.display_info())\n",
    "\n",
    "\n"
   ]
  },
  {
   "cell_type": "code",
   "execution_count": 1,
   "metadata": {},
   "outputs": [],
   "source": [
    "class BankAccount:\n",
    "    def __init__(self, account_number, account_holder, initial_balance=0):\n",
    "        self.account_number = account_number\n",
    "        self.account_holder = account_holder\n",
    "        self.balance = initial_balance\n",
    "    def deposit(self, amount):\n",
    "        self.balance += amount\n",
    "    def withdraw(self, amount):\n",
    "        if amount <= self.balance:\n",
    "            self.balance -= amount\n",
    "        else:\n",
    "            print(\"Insufficient funds!\")\n",
    "    def get_balance(self):\n",
    "        return self.balance\n",
    "class Bank:\n",
    "    def __init__(self):\n",
    "        self.accounts = []\n",
    "    def add_account(self, account):\n",
    "        self.accounts.append(account)\n",
    "    def find_account(self, account_number):\n",
    "        for account in self.accounts:\n",
    "            if account.account_number == account_number:\n",
    "                return account\n",
    "        return None\n",
    "    def transfer_funds(self, from_account_number, to_account_number, amount):\n",
    "        from_account = self.find_account(from_account_number)\n",
    "        to_account = self.find_account(to_account_number)\n",
    "        if from_account and to_account:\n",
    "            if from_account.get_balance() >= amount:\n",
    "                from_account.withdraw(amount)\n",
    "                to_account.deposit(amount)\n",
    "                print(\"Funds transferred successfully.\")\n",
    "            else:\n",
    "                print(\"Insufficient funds in the source account.\")\n",
    "        else:\n",
    "            print(\"One or both accounts not found.\")\n",
    "bank = Bank()\n",
    "num_accounts = int(input(\"Enter the number of accounts to create: \"))\n",
    "for i in range(num_accounts):\n",
    "    account_number = input(f\"Enter account number for Account {i + 1}: \")\n",
    "    account_holder = input(f\"Enter account holder name for Account {i + 1}: \")\n",
    "    initial_balance = float(input(f\"Enter initial balance for Account {i + 1}: \"))\n",
    "    new_account = BankAccount(account_number, account_holder, initial_balance)\n",
    "    bank.add_account(new_account)\n",
    "print(\"\\nInitial Account Balances:\")\n",
    "for account in bank.accounts:\n",
    "    print(f\"Account {account.account_number} - Balance: ${account.get_balance()}\")\n",
    "from_account_num = input(\"\\nEnter source account number for fund transfer: \")\n",
    "to_account_num = input(\"Enter destination account number for fund transfer: \")\n",
    "transfer_amount = float(input(\"Enter the amount to transfer: \"))\n",
    "bank.transfer_funds(from_account_num, to_account_num, transfer_amount)\n",
    "print(\"\\nUpdated Account Balances:\")\n",
    "for account in bank.accounts:\n",
    "    print(f\"Account {account.account_number} - Balance: ${account.get_balance()}\")"
   ]
  },
  {
   "cell_type": "code",
   "execution_count": null,
   "metadata": {},
   "outputs": [],
   "source": [
    "class account():\n",
    "    def _init_(self,deposit,withdrawl,display):\n",
    "        self._deposit = aaa  \n",
    "        self._withdrawl = bbb  \n",
    "        self._display=ccc \n",
    "        self._balance=balance  \n",
    "\n",
    "    def balance(self):\n",
    "        if not self.balance:\n",
    "            print(f\"The {self._deposit} {self._withdrawl} {self._display}'s is taken.\")\n",
    "            self._is_running = True\n",
    "        else:\n",
    "            print(\"You have already taken this book.\")\n",
    "\n",
    "    def check_out(self):\n",
    "        if self.Check_in:\n",
    "            print(f\"The {self._title} {self._author} {self._ISBN}'s is returned.\")\n",
    "            self._is_running = False\n",
    "        else:\n",
    "            print(\"You have already returned this book.\")\n",
    "\n",
    "    def get_info(self):\n",
    "        return f\"{self._title} {self._author} {self._ISBN}\"\n"
   ]
  },
  {
   "cell_type": "code",
   "execution_count": 18,
   "metadata": {},
   "outputs": [
    {
     "name": "stdout",
     "output_type": "stream",
     "text": [
      "2022 Toyota Camry, 4-door car\n",
      "2022 Harley-Davidson Street Glide, 2-wheeler motorcycle\n"
     ]
    }
   ],
   "source": [
    "#with out using super()\n",
    "class Vehicle:\n",
    "    def __init__(self, make, model, year):\n",
    "        self.make = make\n",
    "        self.model = model\n",
    "        self.year = year\n",
    "\n",
    "    def display_info(self):\n",
    "        return f\"{self.year} {self.make} {self.model}\"\n",
    "\n",
    "\n",
    "class Car(Vehicle):\n",
    "    def __init__(self, make, model, year, num_doors):\n",
    "        Vehicle.__init__(self, make, model, year)\n",
    "        self.num_doors = num_doors\n",
    "\n",
    "    def display_info(self):\n",
    "        return f\"{Vehicle.display_info(self)}, {self.num_doors}-door car\"\n",
    "\n",
    "\n",
    "class Motorcycle(Vehicle):\n",
    "    def __init__(self, make, model, year, num_wheels):\n",
    "        Vehicle.__init__(self, make, model, year)\n",
    "        self.num_wheels = num_wheels\n",
    "\n",
    "    def display_info(self):\n",
    "        return f\"{Vehicle.display_info(self)}, {self.num_wheels}-wheeler motorcycle\"\n",
    "\n",
    "car1 = Car(\"Toyota\", \"Camry\", 2022, 4)\n",
    "motorcycle1 = Motorcycle(\"Harley-Davidson\", \"Street Glide\", 2022, 2)\n",
    "\n",
    "print(car1.display_info()) \n",
    "print(motorcycle1.display_info())\n"
   ]
  },
  {
   "cell_type": "code",
   "execution_count": 11,
   "metadata": {},
   "outputs": [
    {
     "name": "stdout",
     "output_type": "stream",
     "text": [
      "name:a,age:4\n"
     ]
    }
   ],
   "source": [
    "class person:\n",
    "    def __init__(self,name,age):\n",
    "        self.name=name\n",
    "        self.age=age\n",
    "    def display_info(self):\n",
    "        print (f\"name:{self.name},age:{self.age}\")\n",
    "\n",
    "class Employee:\n",
    "    def __init__(self,emp_id,emp_salary):\n",
    "        self.emp_id=emp_id\n",
    "        self.emp_salary=emp_salary\n",
    "\n",
    "class Student(person,Employee):\n",
    "    def __init__(self,name,age,emp_id,emp_salary,student_id,grade):\n",
    "        person.__init__(self,name,age)\n",
    "        Employee.__init__(self,emp_id,emp_salary)\n",
    "        self.student_id=student_id\n",
    "        self.grade=grade\n",
    "\n",
    "def display_info(self):\n",
    "    person.display_info(self)\n",
    "    Employee.display_info(self)\n",
    "    print(f\"STUDENT_ID={self.student_id},GRADE={self.grade}\")\n",
    "Student=Student(\"a\",4,67,5675657,'m','r')\n",
    "Student.display_info()"
   ]
  },
  {
   "cell_type": "code",
   "execution_count": 4,
   "metadata": {},
   "outputs": [
    {
     "name": "stdout",
     "output_type": "stream",
     "text": [
      "5\n",
      "7\n"
     ]
    }
   ],
   "source": [
    "class A:\n",
    "\tdef __init__(self,num):\n",
    "\t\tnum=3\n",
    "\t\tnum=5\n",
    "\t\tself.num=num\n",
    "\tdef change(self):\n",
    "\t\tself.num=7\n",
    "\n",
    "a=A(9)\n",
    "print(a.num)\n",
    "a.change()\n",
    "print(a.num)\n"
   ]
  },
  {
   "cell_type": "code",
   "execution_count": 14,
   "metadata": {},
   "outputs": [
    {
     "ename": "NameError",
     "evalue": "name 'Student' is not defined",
     "output_type": "error",
     "traceback": [
      "\u001b[1;31m---------------------------------------------------------------------------\u001b[0m",
      "\u001b[1;31mNameError\u001b[0m                                 Traceback (most recent call last)",
      "Cell \u001b[1;32mIn[14], line 1\u001b[0m\n\u001b[1;32m----> 1\u001b[0m \u001b[38;5;28;43;01mclass\u001b[39;49;00m\u001b[43m \u001b[49m\u001b[38;5;21;43;01mStudent\u001b[39;49;00m\u001b[43m:\u001b[49m\n\u001b[0;32m      2\u001b[0m \u001b[43m    \u001b[49m\u001b[38;5;28;43;01mdef\u001b[39;49;00m\u001b[43m \u001b[49m\u001b[38;5;21;43m__init__\u001b[39;49m\u001b[43m(\u001b[49m\u001b[38;5;28;43mself\u001b[39;49m\u001b[43m,\u001b[49m\u001b[43mname\u001b[49m\u001b[43m,\u001b[49m\u001b[43mmarks\u001b[49m\u001b[43m)\u001b[49m\u001b[43m:\u001b[49m\n\u001b[0;32m      3\u001b[0m \u001b[43m        \u001b[49m\u001b[38;5;28;43mself\u001b[39;49m\u001b[38;5;241;43m.\u001b[39;49m\u001b[43mname\u001b[49m\u001b[38;5;241;43m=\u001b[39;49m\u001b[43mname\u001b[49m\n",
      "Cell \u001b[1;32mIn[14], line 12\u001b[0m, in \u001b[0;36mStudent\u001b[1;34m()\u001b[0m\n\u001b[0;32m      9\u001b[0m         \u001b[38;5;28msum\u001b[39m \u001b[38;5;241m+\u001b[39m\u001b[38;5;241m=\u001b[39m \u001b[38;5;241m1\u001b[39m\n\u001b[0;32m     10\u001b[0m     \u001b[38;5;28mprint\u001b[39m(\u001b[38;5;28msum\u001b[39m)\n\u001b[1;32m---> 12\u001b[0m s1\u001b[38;5;241m=\u001b[39m \u001b[43mStudent\u001b[49m(\u001b[38;5;124m\"\u001b[39m\u001b[38;5;124mkara\u001b[39m\u001b[38;5;124m\"\u001b[39m,[\u001b[38;5;241m23\u001b[39m,\u001b[38;5;241m34\u001b[39m,\u001b[38;5;241m46\u001b[39m])\n\u001b[0;32m     13\u001b[0m \u001b[38;5;28mprint\u001b[39m(s1\u001b[38;5;241m.\u001b[39mname)\n\u001b[0;32m     14\u001b[0m s1\u001b[38;5;241m.\u001b[39maverage()\n",
      "\u001b[1;31mNameError\u001b[0m: name 'Student' is not defined"
     ]
    }
   ],
   "source": [
    "class Student:\n",
    "    def __init__(self,name,marks):\n",
    "        self.name=name\n",
    "        self.marks=marks\n",
    "\n",
    "    def average(self):\n",
    "        sum=0\n",
    "        for i in self.marks:\n",
    "            sum += 1\n",
    "        print(sum)\n",
    "\n",
    "    s1= Student(\"kara\",[23,34,46])\n",
    "    print(s1.name)\n",
    "    s1.average()"
   ]
  },
  {
   "cell_type": "code",
   "execution_count": 4,
   "metadata": {},
   "outputs": [
    {
     "name": "stdout",
     "output_type": "stream",
     "text": [
      "43.96\n",
      "153.86\n"
     ]
    }
   ],
   "source": [
    "#Write a Python program to create a class representing a Circle. Include \n",
    "#methods to calculate its area and perimeter.\n",
    "class Circle:\n",
    "    def __init__(self,radius):\n",
    "        self.radius=radius\n",
    "\n",
    "    def area(self):\n",
    "        print(2*3.14*self.radius)\n",
    "\n",
    "    def perimeter(self):\n",
    "        print(3.14*(self.radius**2))\n",
    "\n",
    "c1=Circle(7)\n",
    "c1.area()\n",
    "c1.perimeter()"
   ]
  },
  {
   "cell_type": "code",
   "execution_count": 8,
   "metadata": {},
   "outputs": [
    {
     "name": "stdout",
     "output_type": "stream",
     "text": [
      "19\n"
     ]
    },
    {
     "ename": "NameError",
     "evalue": "name 'age' is not defined",
     "output_type": "error",
     "traceback": [
      "\u001b[1;31m---------------------------------------------------------------------------\u001b[0m",
      "\u001b[1;31mNameError\u001b[0m                                 Traceback (most recent call last)",
      "Cell \u001b[1;32mIn[8], line 19\u001b[0m\n\u001b[0;32m     15\u001b[0m             \u001b[38;5;28mprint\u001b[39m(\u001b[38;5;124m\"\u001b[39m\u001b[38;5;124minvalid age\u001b[39m\u001b[38;5;124m\"\u001b[39m)\n\u001b[0;32m     18\u001b[0m p1\u001b[38;5;241m=\u001b[39mPerson(\u001b[38;5;124m\"\u001b[39m\u001b[38;5;124mgfhs\u001b[39m\u001b[38;5;124m\"\u001b[39m,\u001b[38;5;124m\"\u001b[39m\u001b[38;5;124mhcvhjg\u001b[39m\u001b[38;5;124m\"\u001b[39m,\u001b[38;5;241m2005\u001b[39m)\n\u001b[1;32m---> 19\u001b[0m \u001b[43mp1\u001b[49m\u001b[38;5;241;43m.\u001b[39;49m\u001b[43mage\u001b[49m\u001b[43m(\u001b[49m\u001b[43m)\u001b[49m\n",
      "Cell \u001b[1;32mIn[8], line 14\u001b[0m, in \u001b[0;36mPerson.age\u001b[1;34m(self)\u001b[0m\n\u001b[0;32m     12\u001b[0m \u001b[38;5;28;01mdef\u001b[39;00m \u001b[38;5;21mage\u001b[39m(\u001b[38;5;28mself\u001b[39m):\n\u001b[0;32m     13\u001b[0m     \u001b[38;5;28mprint\u001b[39m(\u001b[38;5;241m2024\u001b[39m\u001b[38;5;241m-\u001b[39m\u001b[38;5;28mself\u001b[39m\u001b[38;5;241m.\u001b[39mdate_of_birth)\n\u001b[1;32m---> 14\u001b[0m     \u001b[38;5;28;01mif\u001b[39;00m \u001b[43mage\u001b[49m\u001b[38;5;241m<\u001b[39m\u001b[38;5;241m0\u001b[39m:\n\u001b[0;32m     15\u001b[0m         \u001b[38;5;28mprint\u001b[39m(\u001b[38;5;124m\"\u001b[39m\u001b[38;5;124minvalid age\u001b[39m\u001b[38;5;124m\"\u001b[39m)\n",
      "\u001b[1;31mNameError\u001b[0m: name 'age' is not defined"
     ]
    }
   ],
   "source": [
    "# Write a Python program to create a person class.\n",
    "# Include attributes like name, country and date of birth.\n",
    "# Implement a method to determine the person's age.\n",
    "\n",
    "\n",
    "class Person:\n",
    "    def __init__(self,name,country,date_of_birth):\n",
    "        self.name=name\n",
    "        self.country=country\n",
    "        self.date_of_birth=date_of_birth\n",
    "\n",
    "    def age(self):\n",
    "        print(2024-self.date_of_birth)\n",
    "        if age<0:\n",
    "            print(\"invalid age\")\n",
    "p1=Person(\"gfhs\",\"hcvhjg\",2005)\n",
    "p1.age()"
   ]
  },
  {
   "cell_type": "code",
   "execution_count": 3,
   "metadata": {},
   "outputs": [
    {
     "name": "stdout",
     "output_type": "stream",
     "text": [
      "aditya 12\n"
     ]
    }
   ],
   "source": [
    "class Student:\n",
    "    def __init__(self,name,classs):\n",
    "        self.name=name\n",
    "        self.classs=classs\n",
    "\n",
    "a1=Student(\"aditya\",12)\n",
    "print(a1.name,a1.classs)"
   ]
  }
 ],
 "metadata": {
  "kernelspec": {
   "display_name": "Python 3",
   "language": "python",
   "name": "python3"
  },
  "language_info": {
   "codemirror_mode": {
    "name": "ipython",
    "version": 3
   },
   "file_extension": ".py",
   "mimetype": "text/x-python",
   "name": "python",
   "nbconvert_exporter": "python",
   "pygments_lexer": "ipython3",
   "version": "3.11.4"
  }
 },
 "nbformat": 4,
 "nbformat_minor": 2
}
