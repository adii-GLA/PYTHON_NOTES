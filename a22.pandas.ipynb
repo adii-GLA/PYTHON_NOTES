{
 "cells": [
  {
   "cell_type": "code",
   "execution_count": 2,
   "metadata": {},
   "outputs": [],
   "source": [
    "import pandas as pd\n",
    "\n"
   ]
  },
  {
   "cell_type": "code",
   "execution_count": 3,
   "metadata": {},
   "outputs": [
    {
     "name": "stdout",
     "output_type": "stream",
     "text": [
      "------------------------------------PANDAS--------------------------------------------\n"
     ]
    }
   ],
   "source": [
    "print(\"------------------------------------PANDAS--------------------------------------------\")"
   ]
  },
  {
   "cell_type": "code",
   "execution_count": 28,
   "metadata": {},
   "outputs": [
    {
     "name": "stdout",
     "output_type": "stream",
     "text": [
      "     name    naam     nam\n",
      "0  aditya  aditya  aditya\n",
      "    name   naam    nam\n",
      "2  singh  singh  singh\n",
      "     name    naam     nam\n",
      "0  aditya  aditya  aditya\n",
      "1  pratap  pratap  pratap\n",
      "2   singh   singh   singh\n",
      "    name   naam    nam\n",
      "0  False  False  False\n",
      "1  False  False  False\n",
      "2  False  False  False\n"
     ]
    }
   ],
   "source": [
    "#dataframe\n",
    "import pandas as pd\n",
    "data={\"name\":[\"aditya\",\"pratap\",\"singh\"],\n",
    "      \"naam\":[\"aditya\",\"pratap\",\"singh\"],\n",
    "      \"nam\":[\"aditya\",\"pratap\",\"singh\"]}\n",
    "df=pd.DataFrame(data)\n",
    "print(df.head(1))\n",
    "print(df.tail(1))\n",
    "print(df)\n",
    "print(df.isnull())"
   ]
  },
  {
   "cell_type": "code",
   "execution_count": 11,
   "metadata": {},
   "outputs": [
    {
     "name": "stdout",
     "output_type": "stream",
     "text": [
      "exploring data in pndas\n"
     ]
    }
   ],
   "source": [
    "print(\"exploring data in pndas\")"
   ]
  },
  {
   "cell_type": "code",
   "execution_count": 30,
   "metadata": {},
   "outputs": [
    {
     "name": "stdout",
     "output_type": "stream",
     "text": [
      "   color      director_name  num_critic_for_reviews  duration  \\\n",
      "0  Color      James Cameron                   723.0     178.0   \n",
      "1  Color     Gore Verbinski                   302.0     169.0   \n",
      "2  Color         Sam Mendes                   602.0     148.0   \n",
      "3  Color  Christopher Nolan                   813.0     164.0   \n",
      "4    NaN        Doug Walker                     NaN       NaN   \n",
      "5  Color     Andrew Stanton                   462.0     132.0   \n",
      "6  Color          Sam Raimi                   392.0     156.0   \n",
      "7  Color       Nathan Greno                   324.0     100.0   \n",
      "8  Color        Joss Whedon                   635.0     141.0   \n",
      "9  Color        David Yates                   375.0     153.0   \n",
      "\n",
      "   director_facebook_likes  actor_3_facebook_likes       actor_2_name  \\\n",
      "0                      0.0                   855.0   Joel David Moore   \n",
      "1                    563.0                  1000.0      Orlando Bloom   \n",
      "2                      0.0                   161.0       Rory Kinnear   \n",
      "3                  22000.0                 23000.0     Christian Bale   \n",
      "4                    131.0                     NaN         Rob Walker   \n",
      "5                    475.0                   530.0    Samantha Morton   \n",
      "6                      0.0                  4000.0       James Franco   \n",
      "7                     15.0                   284.0       Donna Murphy   \n",
      "8                      0.0                 19000.0  Robert Downey Jr.   \n",
      "9                    282.0                 10000.0   Daniel Radcliffe   \n",
      "\n",
      "   actor_1_facebook_likes        gross  \\\n",
      "0                  1000.0  760505847.0   \n",
      "1                 40000.0  309404152.0   \n",
      "2                 11000.0  200074175.0   \n",
      "3                 27000.0  448130642.0   \n",
      "4                   131.0          NaN   \n",
      "5                   640.0   73058679.0   \n",
      "6                 24000.0  336530303.0   \n",
      "7                   799.0  200807262.0   \n",
      "8                 26000.0  458991599.0   \n",
      "9                 25000.0  301956980.0   \n",
      "\n",
      "                                              genres  ...  \\\n",
      "0                    Action|Adventure|Fantasy|Sci-Fi  ...   \n",
      "1                           Action|Adventure|Fantasy  ...   \n",
      "2                          Action|Adventure|Thriller  ...   \n",
      "3                                    Action|Thriller  ...   \n",
      "4                                        Documentary  ...   \n",
      "5                            Action|Adventure|Sci-Fi  ...   \n",
      "6                           Action|Adventure|Romance  ...   \n",
      "7  Adventure|Animation|Comedy|Family|Fantasy|Musi...  ...   \n",
      "8                            Action|Adventure|Sci-Fi  ...   \n",
      "9                   Adventure|Family|Fantasy|Mystery  ...   \n",
      "\n",
      "  num_user_for_reviews language  country  content_rating       budget  \\\n",
      "0               3054.0  English      USA           PG-13  237000000.0   \n",
      "1               1238.0  English      USA           PG-13  300000000.0   \n",
      "2                994.0  English       UK           PG-13  245000000.0   \n",
      "3               2701.0  English      USA           PG-13  250000000.0   \n",
      "4                  NaN      NaN      NaN             NaN          NaN   \n",
      "5                738.0  English      USA           PG-13  263700000.0   \n",
      "6               1902.0  English      USA           PG-13  258000000.0   \n",
      "7                387.0  English      USA              PG  260000000.0   \n",
      "8               1117.0  English      USA           PG-13  250000000.0   \n",
      "9                973.0  English       UK              PG  250000000.0   \n",
      "\n",
      "   title_year actor_2_facebook_likes imdb_score  aspect_ratio  \\\n",
      "0      2009.0                  936.0        7.9          1.78   \n",
      "1      2007.0                 5000.0        7.1          2.35   \n",
      "2      2015.0                  393.0        6.8          2.35   \n",
      "3      2012.0                23000.0        8.5          2.35   \n",
      "4         NaN                   12.0        7.1           NaN   \n",
      "5      2012.0                  632.0        6.6          2.35   \n",
      "6      2007.0                11000.0        6.2          2.35   \n",
      "7      2010.0                  553.0        7.8          1.85   \n",
      "8      2015.0                21000.0        7.5          2.35   \n",
      "9      2009.0                11000.0        7.5          2.35   \n",
      "\n",
      "  movie_facebook_likes  \n",
      "0                33000  \n",
      "1                    0  \n",
      "2                85000  \n",
      "3               164000  \n",
      "4                    0  \n",
      "5                24000  \n",
      "6                    0  \n",
      "7                29000  \n",
      "8               118000  \n",
      "9                10000  \n",
      "\n",
      "[10 rows x 28 columns]\n",
      "      color     director_name  num_critic_for_reviews  duration  \\\n",
      "5033  Color     Shane Carruth                   143.0      77.0   \n",
      "5034  Color  Neill Dela Llana                    35.0      80.0   \n",
      "5035  Color  Robert Rodriguez                    56.0      81.0   \n",
      "5036  Color   Anthony Vallone                     NaN      84.0   \n",
      "5037  Color      Edward Burns                    14.0      95.0   \n",
      "5038  Color       Scott Smith                     1.0      87.0   \n",
      "5039  Color               NaN                    43.0      43.0   \n",
      "5040  Color  Benjamin Roberds                    13.0      76.0   \n",
      "5041  Color       Daniel Hsia                    14.0     100.0   \n",
      "5042  Color          Jon Gunn                    43.0      90.0   \n",
      "\n",
      "      director_facebook_likes  actor_3_facebook_likes        actor_2_name  \\\n",
      "5033                    291.0                     8.0      David Sullivan   \n",
      "5034                      0.0                     0.0     Edgar Tancangco   \n",
      "5035                      0.0                     6.0     Peter Marquardt   \n",
      "5036                      2.0                     2.0      John Considine   \n",
      "5037                      0.0                   133.0  Caitlin FitzGerald   \n",
      "5038                      2.0                   318.0       Daphne Zuniga   \n",
      "5039                      NaN                   319.0       Valorie Curry   \n",
      "5040                      0.0                     0.0       Maxwell Moody   \n",
      "5041                      0.0                   489.0       Daniel Henney   \n",
      "5042                     16.0                    16.0    Brian Herzlinger   \n",
      "\n",
      "      actor_1_facebook_likes      gross                               genres  \\\n",
      "5033                   291.0   424760.0                Drama|Sci-Fi|Thriller   \n",
      "5034                     0.0    70071.0                             Thriller   \n",
      "5035                   121.0  2040920.0  Action|Crime|Drama|Romance|Thriller   \n",
      "5036                    45.0        NaN                          Crime|Drama   \n",
      "5037                   296.0     4584.0                         Comedy|Drama   \n",
      "5038                   637.0        NaN                         Comedy|Drama   \n",
      "5039                   841.0        NaN         Crime|Drama|Mystery|Thriller   \n",
      "5040                     0.0        NaN                Drama|Horror|Thriller   \n",
      "5041                   946.0    10443.0                 Comedy|Drama|Romance   \n",
      "5042                    86.0    85222.0                          Documentary   \n",
      "\n",
      "      ... num_user_for_reviews language      country  content_rating  budget  \\\n",
      "5033  ...                371.0  English          USA           PG-13  7000.0   \n",
      "5034  ...                 35.0  English  Philippines       Not Rated  7000.0   \n",
      "5035  ...                130.0  Spanish          USA               R  7000.0   \n",
      "5036  ...                  1.0  English          USA           PG-13  3250.0   \n",
      "5037  ...                 14.0  English          USA       Not Rated  9000.0   \n",
      "5038  ...                  6.0  English       Canada             NaN     NaN   \n",
      "5039  ...                359.0  English          USA           TV-14     NaN   \n",
      "5040  ...                  3.0  English          USA             NaN  1400.0   \n",
      "5041  ...                  9.0  English          USA           PG-13     NaN   \n",
      "5042  ...                 84.0  English          USA              PG  1100.0   \n",
      "\n",
      "      title_year actor_2_facebook_likes imdb_score  aspect_ratio  \\\n",
      "5033      2004.0                   45.0        7.0          1.85   \n",
      "5034      2005.0                    0.0        6.3           NaN   \n",
      "5035      1992.0                   20.0        6.9          1.37   \n",
      "5036      2005.0                   44.0        7.8           NaN   \n",
      "5037      2011.0                  205.0        6.4           NaN   \n",
      "5038      2013.0                  470.0        7.7           NaN   \n",
      "5039         NaN                  593.0        7.5         16.00   \n",
      "5040      2013.0                    0.0        6.3           NaN   \n",
      "5041      2012.0                  719.0        6.3          2.35   \n",
      "5042      2004.0                   23.0        6.6          1.85   \n",
      "\n",
      "     movie_facebook_likes  \n",
      "5033                19000  \n",
      "5034                   74  \n",
      "5035                    0  \n",
      "5036                    4  \n",
      "5037                  413  \n",
      "5038                   84  \n",
      "5039                32000  \n",
      "5040                   16  \n",
      "5041                  660  \n",
      "5042                  456  \n",
      "\n",
      "[10 rows x 28 columns]\n",
      "<class 'pandas.core.frame.DataFrame'>\n",
      "RangeIndex: 5043 entries, 0 to 5042\n",
      "Data columns (total 28 columns):\n",
      " #   Column                     Non-Null Count  Dtype  \n",
      "---  ------                     --------------  -----  \n",
      " 0   color                      5024 non-null   object \n",
      " 1   director_name              4939 non-null   object \n",
      " 2   num_critic_for_reviews     4993 non-null   float64\n",
      " 3   duration                   5028 non-null   float64\n",
      " 4   director_facebook_likes    4939 non-null   float64\n",
      " 5   actor_3_facebook_likes     5020 non-null   float64\n",
      " 6   actor_2_name               5030 non-null   object \n",
      " 7   actor_1_facebook_likes     5036 non-null   float64\n",
      " 8   gross                      4159 non-null   float64\n",
      " 9   genres                     5043 non-null   object \n",
      " 10  actor_1_name               5036 non-null   object \n",
      " 11  movie_title                5043 non-null   object \n",
      " 12  num_voted_users            5043 non-null   int64  \n",
      " 13  cast_total_facebook_likes  5043 non-null   int64  \n",
      " 14  actor_3_name               5020 non-null   object \n",
      " 15  facenumber_in_poster       5030 non-null   float64\n",
      " 16  plot_keywords              4890 non-null   object \n",
      " 17  movie_imdb_link            5043 non-null   object \n",
      " 18  num_user_for_reviews       5022 non-null   float64\n",
      " 19  language                   5029 non-null   object \n",
      " 20  country                    5038 non-null   object \n",
      " 21  content_rating             4740 non-null   object \n",
      " 22  budget                     4551 non-null   float64\n",
      " 23  title_year                 4935 non-null   float64\n",
      " 24  actor_2_facebook_likes     5030 non-null   float64\n",
      " 25  imdb_score                 5043 non-null   float64\n",
      " 26  aspect_ratio               4714 non-null   float64\n",
      " 27  movie_facebook_likes       5043 non-null   int64  \n",
      "dtypes: float64(13), int64(3), object(12)\n",
      "memory usage: 1.1+ MB\n",
      "None\n",
      "      color  director_name  num_critic_for_reviews  duration  \\\n",
      "0     False          False                   False     False   \n",
      "1     False          False                   False     False   \n",
      "2     False          False                   False     False   \n",
      "3     False          False                   False     False   \n",
      "4      True          False                    True      True   \n",
      "...     ...            ...                     ...       ...   \n",
      "5038  False          False                   False     False   \n",
      "5039  False           True                   False     False   \n",
      "5040  False          False                   False     False   \n",
      "5041  False          False                   False     False   \n",
      "5042  False          False                   False     False   \n",
      "\n",
      "      director_facebook_likes  actor_3_facebook_likes  actor_2_name  \\\n",
      "0                       False                   False         False   \n",
      "1                       False                   False         False   \n",
      "2                       False                   False         False   \n",
      "3                       False                   False         False   \n",
      "4                       False                    True         False   \n",
      "...                       ...                     ...           ...   \n",
      "5038                    False                   False         False   \n",
      "5039                     True                   False         False   \n",
      "5040                    False                   False         False   \n",
      "5041                    False                   False         False   \n",
      "5042                    False                   False         False   \n",
      "\n",
      "      actor_1_facebook_likes  gross  genres  ...  num_user_for_reviews  \\\n",
      "0                      False  False   False  ...                 False   \n",
      "1                      False  False   False  ...                 False   \n",
      "2                      False  False   False  ...                 False   \n",
      "3                      False  False   False  ...                 False   \n",
      "4                      False   True   False  ...                  True   \n",
      "...                      ...    ...     ...  ...                   ...   \n",
      "5038                   False   True   False  ...                 False   \n",
      "5039                   False   True   False  ...                 False   \n",
      "5040                   False   True   False  ...                 False   \n",
      "5041                   False  False   False  ...                 False   \n",
      "5042                   False  False   False  ...                 False   \n",
      "\n",
      "      language  country  content_rating  budget  title_year  \\\n",
      "0        False    False           False   False       False   \n",
      "1        False    False           False   False       False   \n",
      "2        False    False           False   False       False   \n",
      "3        False    False           False   False       False   \n",
      "4         True     True            True    True        True   \n",
      "...        ...      ...             ...     ...         ...   \n",
      "5038     False    False            True    True       False   \n",
      "5039     False    False           False    True        True   \n",
      "5040     False    False            True   False       False   \n",
      "5041     False    False           False    True       False   \n",
      "5042     False    False           False   False       False   \n",
      "\n",
      "      actor_2_facebook_likes  imdb_score  aspect_ratio  movie_facebook_likes  \n",
      "0                      False       False         False                 False  \n",
      "1                      False       False         False                 False  \n",
      "2                      False       False         False                 False  \n",
      "3                      False       False         False                 False  \n",
      "4                      False       False          True                 False  \n",
      "...                      ...         ...           ...                   ...  \n",
      "5038                   False       False          True                 False  \n",
      "5039                   False       False         False                 False  \n",
      "5040                   False       False          True                 False  \n",
      "5041                   False       False         False                 False  \n",
      "5042                   False       False         False                 False  \n",
      "\n",
      "[5043 rows x 28 columns]\n"
     ]
    }
   ],
   "source": [
    "import pandas as pd\n",
    "data=pd.read_csv(\"movie_metadata.csv\")\n",
    "print(data.head(10))\n",
    "print(data.tail(10))\n",
    "print(data.info())\n",
    "data.describe()\n",
    "print(data.isnull())"
   ]
  },
  {
   "cell_type": "code",
   "execution_count": 29,
   "metadata": {},
   "outputs": [
    {
     "name": "stdout",
     "output_type": "stream",
     "text": [
      "handle duplicate in pandas\n"
     ]
    }
   ],
   "source": [
    "print(\"handle duplicate in pandas\")"
   ]
  },
  {
   "cell_type": "code",
   "execution_count": 46,
   "metadata": {},
   "outputs": [
    {
     "name": "stdout",
     "output_type": "stream",
     "text": [
      "0       False\n",
      "1       False\n",
      "2       False\n",
      "3       False\n",
      "4       False\n",
      "        ...  \n",
      "5038    False\n",
      "5039    False\n",
      "5040    False\n",
      "5041    False\n",
      "5042    False\n",
      "Length: 5043, dtype: bool\n",
      "      color          director_name  num_critic_for_reviews  duration  \\\n",
      "0     Color          James Cameron                   723.0     178.0   \n",
      "1     Color         Gore Verbinski                   302.0     169.0   \n",
      "2     Color             Sam Mendes                   602.0     148.0   \n",
      "3     Color      Christopher Nolan                   813.0     164.0   \n",
      "4       NaN            Doug Walker                     NaN       NaN   \n",
      "...     ...                    ...                     ...       ...   \n",
      "4251  Color  David Robert Mitchell                   533.0     100.0   \n",
      "4356  Color           Daniel Stamm                   311.0      87.0   \n",
      "4361  Color           Benh Zeitlin                   663.0      93.0   \n",
      "4523  Color           Gareth Evans                   481.0     102.0   \n",
      "4793  Color              Oren Peli                   409.0      84.0   \n",
      "\n",
      "      director_facebook_likes  actor_3_facebook_likes      actor_2_name  \\\n",
      "0                         0.0                   855.0  Joel David Moore   \n",
      "1                       563.0                  1000.0     Orlando Bloom   \n",
      "2                         0.0                   161.0      Rory Kinnear   \n",
      "3                     22000.0                 23000.0    Christian Bale   \n",
      "4                       131.0                     NaN        Rob Walker   \n",
      "...                       ...                     ...               ...   \n",
      "4251                    421.0                   159.0       Ruby Harris   \n",
      "4356                     13.0                   308.0       Ashley Bell   \n",
      "4361                    188.0                   168.0      Gina Montana   \n",
      "4523                    338.0                    60.0      Yayan Ruhian   \n",
      "4793                    110.0                    21.0     Ashley Palmer   \n",
      "\n",
      "      actor_1_facebook_likes        gross                           genres  \\\n",
      "0                     1000.0  760505847.0  Action|Adventure|Fantasy|Sci-Fi   \n",
      "1                    40000.0  309404152.0         Action|Adventure|Fantasy   \n",
      "2                    11000.0  200074175.0        Action|Adventure|Thriller   \n",
      "3                    27000.0  448130642.0                  Action|Thriller   \n",
      "4                      131.0          NaN                      Documentary   \n",
      "...                      ...          ...                              ...   \n",
      "4251                   314.0   14673301.0                   Horror|Mystery   \n",
      "4356                   463.0   40990055.0            Drama|Horror|Thriller   \n",
      "4361                  2000.0   12784397.0                    Drama|Fantasy   \n",
      "4523                  1000.0    4105123.0            Action|Crime|Thriller   \n",
      "4793                   189.0  107917283.0                           Horror   \n",
      "\n",
      "      ... num_user_for_reviews    language    country  content_rating  \\\n",
      "0     ...               3054.0     English        USA           PG-13   \n",
      "1     ...               1238.0     English        USA           PG-13   \n",
      "2     ...                994.0     English         UK           PG-13   \n",
      "3     ...               2701.0     English        USA           PG-13   \n",
      "4     ...                  NaN         NaN        NaN             NaN   \n",
      "...   ...                  ...         ...        ...             ...   \n",
      "4251  ...                631.0     English        USA               R   \n",
      "4356  ...                300.0     English     France           PG-13   \n",
      "4361  ...                269.0     English        USA           PG-13   \n",
      "4523  ...                316.0  Indonesian  Indonesia               R   \n",
      "4793  ...               1189.0     English        USA               R   \n",
      "\n",
      "           budget  title_year actor_2_facebook_likes imdb_score  aspect_ratio  \\\n",
      "0     237000000.0      2009.0                  936.0        7.9          1.78   \n",
      "1     300000000.0      2007.0                 5000.0        7.1          2.35   \n",
      "2     245000000.0      2015.0                  393.0        6.8          2.35   \n",
      "3     250000000.0      2012.0                23000.0        8.5          2.35   \n",
      "4             NaN         NaN                   12.0        7.1           NaN   \n",
      "...           ...         ...                    ...        ...           ...   \n",
      "4251    2000000.0      2014.0                  189.0        6.9          2.35   \n",
      "4356    1800000.0      2010.0                  400.0        5.6          1.85   \n",
      "4361    1800000.0      2012.0                  458.0        7.3          1.85   \n",
      "4523    1100000.0      2011.0                  342.0        7.6          1.85   \n",
      "4793      15000.0      2007.0                  109.0        6.3          1.85   \n",
      "\n",
      "     movie_facebook_likes  \n",
      "0                   33000  \n",
      "1                       0  \n",
      "2                   85000  \n",
      "3                  164000  \n",
      "4                       0  \n",
      "...                   ...  \n",
      "4251                45000  \n",
      "4356                    0  \n",
      "4361                31000  \n",
      "4523                51000  \n",
      "4793                12000  \n",
      "\n",
      "[529 rows x 28 columns]\n"
     ]
    }
   ],
   "source": [
    "import pandas as pd\n",
    "data=pd.read_csv(\"movie_metadata.csv\")\n",
    "data.isnull()\n",
    "data.describe()\n",
    "print(data.duplicated())\n",
    "print(data.drop_duplicates(\"num_critic_for_reviews\"))"
   ]
  },
  {
   "cell_type": "code",
   "execution_count": 47,
   "metadata": {},
   "outputs": [
    {
     "name": "stdout",
     "output_type": "stream",
     "text": [
      "working with missing data in pandas\n"
     ]
    }
   ],
   "source": [
    "print(\"working with missing data in pandas\")"
   ]
  },
  {
   "cell_type": "code",
   "execution_count": 53,
   "metadata": {},
   "outputs": [
    {
     "name": "stdout",
     "output_type": "stream",
     "text": [
      "   YearsExperience  Salary\n",
      "0              1.2   39343\n",
      "1              1.3   46205\n",
      "2              1.5   37731\n",
      "3              2.0   43525\n",
      "4              2.2   43525\n",
      "5              2.9   56642\n",
      "6              3.0   60150\n",
      "7              3.2   54445\n",
      "8              1.2   64445\n",
      "   YearsExperience  Salary\n",
      "0              1.2   39343\n",
      "1              1.3   46205\n",
      "2              1.5   37731\n",
      "3              2.0   43525\n",
      "4              2.2   43525\n",
      "5              2.9   56642\n",
      "6              3.0   60150\n",
      "7              3.2   54445\n",
      "8              1.2   64445\n"
     ]
    }
   ],
   "source": [
    "import pandas as pd\n",
    "import numpy as np\n",
    "data=pd.read_csv(\"Salary Data2.csv\")\n",
    "print(data)\n",
    "data.describe()\n",
    "data.isnull().sum()\n",
    "print(data.replace(np.nan,2))#-------------------------------------------------"
   ]
  },
  {
   "cell_type": "code",
   "execution_count": 55,
   "metadata": {},
   "outputs": [
    {
     "name": "stdout",
     "output_type": "stream",
     "text": [
      "cloumn transformation in pandas\n"
     ]
    }
   ],
   "source": [
    "print(\"cloumn transformation in pandas\")"
   ]
  },
  {
   "cell_type": "code",
   "execution_count": 60,
   "metadata": {},
   "outputs": [
    {
     "name": "stdout",
     "output_type": "stream",
     "text": [
      "   YearsExperience  Salary\n",
      "0              1.2   39343\n",
      "1              1.3   46205\n",
      "2              1.5   37731\n",
      "3              2.0   43525\n",
      "4              2.2   43525\n",
      "5              2.9   56642\n",
      "6              3.0   60150\n",
      "7              3.2   54445\n",
      "8              1.2   64445\n",
      "   YearsExperience  Salary  status\n",
      "0              1.2   39343   False\n",
      "1              1.3   46205    True\n",
      "2              1.5   37731   False\n",
      "3              2.0   43525   False\n",
      "4              2.2   43525   False\n",
      "5              2.9   56642    True\n",
      "6              3.0   60150    True\n",
      "7              3.2   54445    True\n",
      "8              1.2   64445    True\n"
     ]
    }
   ],
   "source": [
    "import pandas as pd\n",
    "data=pd.read_csv(\"Salary Data2.csv\")\n",
    "print(data)\n",
    "data[\"status\"]=data[\"Salary\"]>45000\n",
    "print(data)"
   ]
  },
  {
   "cell_type": "code",
   "execution_count": 61,
   "metadata": {},
   "outputs": [
    {
     "name": "stdout",
     "output_type": "stream",
     "text": [
      "good by in pandas\n"
     ]
    }
   ],
   "source": [
    "print(\"good by in pandas\")"
   ]
  },
  {
   "cell_type": "code",
   "execution_count": null,
   "metadata": {},
   "outputs": [],
   "source": [
    "import pandas as pd\n",
    "data=pd.read_csv(\"Salary Data2.csv\")\n",
    "gp=data.groupby(\"\")"
   ]
  },
  {
   "cell_type": "code",
   "execution_count": 62,
   "metadata": {},
   "outputs": [
    {
     "name": "stdout",
     "output_type": "stream",
     "text": [
      "merge ,JOIN AND CONCATENATE in pandas\n"
     ]
    }
   ],
   "source": [
    "print(\"merge ,JOIN AND CONCATENATE in pandas\")"
   ]
  },
  {
   "cell_type": "code",
   "execution_count": 78,
   "metadata": {},
   "outputs": [
    {
     "name": "stdout",
     "output_type": "stream",
     "text": [
      "  Emp Id   Names  Age\n",
      "0    E01     Ram   34\n",
      "1    E02   Shyam   56\n",
      "2    E03   Rahul   23\n",
      "3    E04  Vishal   44\n",
      "4    E05    Ravi   32\n",
      "5    E06    John   34\n",
      "\n",
      "  Emp Id  Salary\n",
      "0    E01   45000\n",
      "1    E09   56000\n",
      "2    E03   34000\n",
      "3    E08   30000\n",
      "4    E05   50000\n",
      "5    E06   60000\n",
      "  Emp Id   Names  Age   Salary\n",
      "0    E01     Ram   34  45000.0\n",
      "1    E02   Shyam   56      NaN\n",
      "2    E03   Rahul   23  34000.0\n",
      "3    E04  Vishal   44      NaN\n",
      "4    E05    Ravi   32  50000.0\n",
      "5    E06    John   34  60000.0\n",
      "  Emp Id   Names   Age   Salary\n",
      "0    E01     Ram  34.0      NaN\n",
      "1    E02   Shyam  56.0      NaN\n",
      "2    E03   Rahul  23.0      NaN\n",
      "3    E04  Vishal  44.0      NaN\n",
      "4    E05    Ravi  32.0      NaN\n",
      "5    E06    John  34.0      NaN\n",
      "0    E01     NaN   NaN  45000.0\n",
      "1    E09     NaN   NaN  56000.0\n",
      "2    E03     NaN   NaN  34000.0\n",
      "3    E08     NaN   NaN  30000.0\n",
      "4    E05     NaN   NaN  50000.0\n",
      "5    E06     NaN   NaN  60000.0\n",
      "  Emp Id  Names  Age  Salary\n",
      "0    E01    Ram   34   45000\n",
      "1    E03  Rahul   23   34000\n",
      "2    E05   Ravi   32   50000\n",
      "3    E06   John   34   60000\n"
     ]
    }
   ],
   "source": [
    "import pandas as pd\n",
    "data1 ={\"Emp Id\":[\"E01\", \"E02\", \"E03\", \"E04\", \"E05\", \"E06\"],\n",
    "        \"Names\":[\"Ram\", \"Shyam\", \"Rahul\", \"Vishal\", \"Ravi\" ,\"John\"],\n",
    "        \"Age\": [34,56,23,44,32,34]}\n",
    "data2 = {\"Emp Id\": [\"E01\", \"E09\", \"E03\", \"E08\", \"E05\", \"E06\"], \n",
    "        \"Salary\": [45000, 56000, 34000, 30000,50000,60000]}\n",
    "df1= pd.DataFrame(data1)\n",
    "df2 = pd.DataFrame(data2)\n",
    "print(df1)\n",
    "print()\n",
    "print(df2)\n",
    "print(pd.merge(df1,df2,on=\"Emp Id\",how=\"left\"))#-----------------------------------------------------\n",
    "print(pd.concat([df1,df2]))\n",
    "print(pd.merge(df1,df2))"
   ]
  },
  {
   "cell_type": "code",
   "execution_count": 79,
   "metadata": {},
   "outputs": [
    {
     "name": "stdout",
     "output_type": "stream",
     "text": [
      "compare dataframe\n"
     ]
    }
   ],
   "source": [
    "print(\"compare dataframe\")"
   ]
  },
  {
   "cell_type": "code",
   "execution_count": 91,
   "metadata": {},
   "outputs": [
    {
     "name": "stdout",
     "output_type": "stream",
     "text": [
      "   Fruits  Price  Quantity\n",
      "0   mango    100        15\n",
      "1  apples    150        10\n",
      "2  banana     50        10\n",
      "3  papaya     35         3\n",
      "   Fruits  Price  Quantity\n",
      "0   mango    120        12\n",
      "1  apples    175        15\n",
      "2  banana     50        10\n",
      "3  papaya     30         5\n",
      "         Price  Quantity\n",
      "0 self   100.0      15.0\n",
      "  other  120.0      12.0\n",
      "1 self   150.0      10.0\n",
      "  other  175.0      15.0\n",
      "3 self    35.0       3.0\n",
      "  other   30.0       5.0\n",
      "  Price       Quantity      \n",
      "   self other     self other\n",
      "0   100   120       15    12\n",
      "1   150   175       10    15\n",
      "3    35    30        3     5\n"
     ]
    }
   ],
   "source": [
    "import pandas as pd\n",
    "data1 = {\"Fruits\": [\"mango\", \"apples\", \"banana\", \"papaya\"],\n",
    "        \"Price\": [100,150,50,35],\n",
    "        \"Quantity\":[15,10,10,3]}\n",
    "df1=pd.DataFrame(data1)\n",
    "data2 = {\"Fruits\": [\"mango\", \"apples\", \"banana\", \"papaya\"],\n",
    "        \"Price\": [120,175,50,30],\n",
    "        \"Quantity\":[12,15,10,5]}\n",
    "df2=pd.DataFrame(data2)\n",
    "print(df1)\n",
    "print(df2)\n",
    "print(df1.compare(df2,align_axis=0))\n",
    "print(df1.compare(df2,keep_equal=True))"
   ]
  },
  {
   "cell_type": "code",
   "execution_count": 92,
   "metadata": {},
   "outputs": [
    {
     "name": "stdout",
     "output_type": "stream",
     "text": [
      "pivoting and melting dataframes\n"
     ]
    }
   ],
   "source": [
    "print(\"pivoting and melting dataframes\")"
   ]
  },
  {
   "cell_type": "code",
   "execution_count": null,
   "metadata": {},
   "outputs": [],
   "source": [
    " "
   ]
  }
 ],
 "metadata": {
  "kernelspec": {
   "display_name": "Python 3",
   "language": "python",
   "name": "python3"
  },
  "language_info": {
   "codemirror_mode": {
    "name": "ipython",
    "version": 3
   },
   "file_extension": ".py",
   "mimetype": "text/x-python",
   "name": "python",
   "nbconvert_exporter": "python",
   "pygments_lexer": "ipython3",
   "version": "3.11.4"
  }
 },
 "nbformat": 4,
 "nbformat_minor": 2
}
