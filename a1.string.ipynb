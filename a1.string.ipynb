{
 "cells": [
  {
   "cell_type": "code",
   "execution_count": null,
   "metadata": {},
   "outputs": [
    {
     "name": "stdout",
     "output_type": "stream",
     "text": [
      "my name is aditya\n"
     ]
    }
   ],
   "source": [
    "#HOW TO MAKE STRING------------------------------\n",
    "new_string=\"my name is khushi\"\n",
    "print(new_string)"
   ]
  },
  {
   "cell_type": "code",
   "execution_count": 3,
   "metadata": {},
   "outputs": [
    {
     "name": "stdout",
     "output_type": "stream",
     "text": [
      "hi my name is khushi\n"
     ]
    }
   ],
   "source": [
    "#INPUT FORM USER\n",
    "name=str(input(\"enter your name\"))\n",
    "print(\"hi my name is\"\" \" + name)"
   ]
  },
  {
   "cell_type": "code",
   "execution_count": 9,
   "metadata": {},
   "outputs": [
    {
     "name": "stdout",
     "output_type": "stream",
     "text": [
      "19\n"
     ]
    }
   ],
   "source": [
    "#METHODS----------------------\n",
    "#TO FIND LENGTH\n",
    "data=\"aditya pratap singh\"\n",
    "x=len(data)\n",
    "print(x)"
   ]
  },
  {
   "cell_type": "code",
   "execution_count": 12,
   "metadata": {},
   "outputs": [
    {
     "name": "stdout",
     "output_type": "stream",
     "text": [
      "ADITYA PRATAP SINGH\n"
     ]
    }
   ],
   "source": [
    "# TO MAKE SMALL and CAPITAL\n",
    "data=\"aditya pratap singh\"\n",
    "x=data.upper()\n",
    "x=data.upper()\n",
    "print(x)"
   ]
  },
  {
   "cell_type": "code",
   "execution_count": 13,
   "metadata": {},
   "outputs": [
    {
     "name": "stdout",
     "output_type": "stream",
     "text": [
      "adii pratap singh\n"
     ]
    }
   ],
   "source": [
    "# TO REPLACE SOMETHING\n",
    "data=\"aditya pratap singh\"\n",
    "x=data.replace(\"aditya\",\"adii\")\n",
    "print(x)"
   ]
  },
  {
   "cell_type": "code",
   "execution_count": 14,
   "metadata": {},
   "outputs": [
    {
     "name": "stdout",
     "output_type": "stream",
     "text": [
      "['aditya', 'pratap', 'singh']\n"
     ]
    }
   ],
   "source": [
    "#TO MAKE LIST\n",
    "data=\"aditya pratap singh\"\n",
    "x=data.split()\n",
    "print(x)"
   ]
  },
  {
   "cell_type": "code",
   "execution_count": 17,
   "metadata": {},
   "outputs": [
    {
     "name": "stdout",
     "output_type": "stream",
     "text": [
      "Aditya pratap singh\n"
     ]
    }
   ],
   "source": [
    "data=\"aditya pratap singh\"\n",
    "x=data.capitalize()\n",
    "print(x)"
   ]
  },
  {
   "cell_type": "code",
   "execution_count": 4,
   "metadata": {},
   "outputs": [
    {
     "name": "stdout",
     "output_type": "stream",
     "text": [
      "                                                                        school                                                                        \n"
     ]
    }
   ],
   "source": [
    "#make in center\n",
    "data=\"school\"\n",
    "x=data.center(150)\n",
    "print(x)"
   ]
  },
  {
   "cell_type": "code",
   "execution_count": 21,
   "metadata": {},
   "outputs": [
    {
     "name": "stdout",
     "output_type": "stream",
     "text": [
      "True\n"
     ]
    }
   ],
   "source": [
    "data=\"school\"\n",
    "x=data.endswith(\"l\")\n",
    "print(x)"
   ]
  },
  {
   "cell_type": "code",
   "execution_count": 23,
   "metadata": {},
   "outputs": [
    {
     "name": "stdout",
     "output_type": "stream",
     "text": [
      "1\n"
     ]
    }
   ],
   "source": [
    "data=\"school\"\n",
    "x=data.find(\"c\")\n",
    "print(x)"
   ]
  },
  {
   "cell_type": "code",
   "execution_count": 28,
   "metadata": {},
   "outputs": [
    {
     "name": "stdout",
     "output_type": "stream",
     "text": [
      "4\n"
     ]
    }
   ],
   "source": [
    "data=\"school\"\n",
    "x=data.index(\"ol\")\n",
    "print(x)"
   ]
  },
  {
   "cell_type": "code",
   "execution_count": 35,
   "metadata": {},
   "outputs": [
    {
     "name": "stdout",
     "output_type": "stream",
     "text": [
      "False\n"
     ]
    }
   ],
   "source": [
    "data=\"12 \"\n",
    "x=data.isdigit()\n",
    "print(x)\n"
   ]
  },
  {
   "cell_type": "code",
   "execution_count": 38,
   "metadata": {},
   "outputs": [
    {
     "name": "stdout",
     "output_type": "stream",
     "text": [
      "True\n"
     ]
    }
   ],
   "source": [
    "data=\"Aditya Pratap Singh\"\n",
    "x=data.istitle()\n",
    "print(x)"
   ]
  },
  {
   "cell_type": "code",
   "execution_count": 40,
   "metadata": {},
   "outputs": [
    {
     "name": "stdout",
     "output_type": "stream",
     "text": [
      "4\n"
     ]
    }
   ],
   "source": [
    "data=\"aditya Pratap Singh\"\n",
    "x=data.count(\"a\")\n",
    "print(x)\n"
   ]
  },
  {
   "cell_type": "code",
   "execution_count": null,
   "metadata": {},
   "outputs": [],
   "source": [
    "# TO JOIN SOME THING\n",
    "data=\"Aditya Pratap Singh\"\n",
    "x=\" \""
   ]
  }
 ],
 "metadata": {
  "kernelspec": {
   "display_name": "Python 3",
   "language": "python",
   "name": "python3"
  },
  "language_info": {
   "codemirror_mode": {
    "name": "ipython",
    "version": 3
   },
   "file_extension": ".py",
   "mimetype": "text/x-python",
   "name": "python",
   "nbconvert_exporter": "python",
   "pygments_lexer": "ipython3",
   "version": "3.11.4"
  }
 },
 "nbformat": 4,
 "nbformat_minor": 2
}
