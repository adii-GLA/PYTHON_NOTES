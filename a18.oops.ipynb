{
 "cells": [
  {
   "cell_type": "code",
   "execution_count": 2,
   "metadata": {},
   "outputs": [
    {
     "name": "stdout",
     "output_type": "stream",
     "text": [
      "aditya\n",
      "aditya\n"
     ]
    }
   ],
   "source": [
    "class Student:\n",
    "    name=\"aditya\"\n",
    "\n",
    "s1=Student()\n",
    "print(s1.name)\n",
    "s2=Student()\n",
    "print(s2.name)"
   ]
  },
  {
   "cell_type": "code",
   "execution_count": 7,
   "metadata": {},
   "outputs": [
    {
     "name": "stdout",
     "output_type": "stream",
     "text": [
      "red audi\n"
     ]
    }
   ],
   "source": [
    "class Car:\n",
    "    colour=\"red\"\n",
    "    brand=\"audi\"\n",
    "car1=Car()\n",
    "print(car1.colour,car1.brand)"
   ]
  },
  {
   "cell_type": "code",
   "execution_count": 3,
   "metadata": {},
   "outputs": [
    {
     "name": "stdout",
     "output_type": "stream",
     "text": [
      "romex international\n",
      "4\n"
     ]
    }
   ],
   "source": [
    "class Romex:\n",
    "    name=\"romex international\"\n",
    "    star=4\n",
    "\n",
    "student=Romex()\n",
    "print(student.name)\n",
    "print(student.star)"
   ]
  },
  {
   "cell_type": "code",
   "execution_count": 10,
   "metadata": {},
   "outputs": [
    {
     "name": "stdout",
     "output_type": "stream",
     "text": [
      "this is your colony\n",
      "<__main__.Colony object at 0x0000027800718D90>\n",
      "<__main__.Colony object at 0x0000027800718D90>\n"
     ]
    }
   ],
   "source": [
    "class Colony:\n",
    "    def __init__(e):\n",
    "        print(\"this is your colony\")\n",
    "        print(e)\n",
    "house1=Colony()\n",
    "print(house1)\n"
   ]
  },
  {
   "cell_type": "code",
   "execution_count": 26,
   "metadata": {},
   "outputs": [
    {
     "name": "stdout",
     "output_type": "stream",
     "text": [
      "adii gshdsfykdf\n",
      "adiii\n",
      "adiiii\n"
     ]
    }
   ],
   "source": [
    "class Student:\n",
    "    collegename=\"gshdsfykdf\"\n",
    "    def __init__(self,name,age,school):\n",
    "        self.name=name\n",
    "        self.age=age\n",
    "        self.school=school\n",
    "s1=Student('adii',2,\"hgdytf\")\n",
    "print(s1.name,s1.collegename)\n",
    "\n",
    "s2=Student('adiii',2,\"hgdytf\")\n",
    "print(s2.name)\n",
    "\n",
    "s3=Student('adiiii',2,\"hgdytf\")\n",
    "print(s3.name)\n",
    "\n"
   ]
  },
  {
   "cell_type": "code",
   "execution_count": 74,
   "metadata": {},
   "outputs": [
    {
     "name": "stdout",
     "output_type": "stream",
     "text": [
      "karan\n",
      "welcome to my world, karan\n",
      "99\n"
     ]
    }
   ],
   "source": [
    "class Student:\n",
    "    school=\"gla\"\n",
    "    def __init__(self,name,age,marks):\n",
    "        self.name=name\n",
    "        self.age=age\n",
    "        self.marks=marks\n",
    "\n",
    "    def welcome(self):\n",
    "        print(\"welcome to my world,\",self.name)\n",
    "\n",
    "    def st_marks(self):#methods\n",
    "        print(self.marks)\n",
    "s1=Student(\"karan\",19,99)\n",
    "print(s1.name)   \n",
    "\n",
    "s1.welcome()\n",
    "s1.st_marks()\n",
    "\n",
    "\n"
   ]
  },
  {
   "cell_type": "code",
   "execution_count": 81,
   "metadata": {},
   "outputs": [
    {
     "ename": "TypeError",
     "evalue": "Student.__init__() missing 1 required positional argument: 'marks'",
     "output_type": "error",
     "traceback": [
      "\u001b[1;31m---------------------------------------------------------------------------\u001b[0m",
      "\u001b[1;31mTypeError\u001b[0m                                 Traceback (most recent call last)",
      "Cell \u001b[1;32mIn[81], line 1\u001b[0m\n\u001b[1;32m----> 1\u001b[0m \u001b[38;5;28;43;01mclass\u001b[39;49;00m\u001b[43m \u001b[49m\u001b[38;5;21;43;01mStudent\u001b[39;49;00m\u001b[43m:\u001b[49m\n\u001b[0;32m      2\u001b[0m \u001b[43m    \u001b[49m\u001b[38;5;28;43;01mdef\u001b[39;49;00m\u001b[43m \u001b[49m\u001b[38;5;21;43m__init__\u001b[39;49m\u001b[43m(\u001b[49m\u001b[38;5;28;43mself\u001b[39;49m\u001b[43m,\u001b[49m\u001b[43mname\u001b[49m\u001b[43m,\u001b[49m\u001b[43mmark\u001b[49m\u001b[43m)\u001b[49m\u001b[43m:\u001b[49m\n\u001b[0;32m      3\u001b[0m \u001b[43m        \u001b[49m\u001b[38;5;28;43mself\u001b[39;49m\u001b[38;5;241;43m.\u001b[39;49m\u001b[43mname\u001b[49m\u001b[38;5;241;43m=\u001b[39;49m\u001b[43mname\u001b[49m\n",
      "Cell \u001b[1;32mIn[81], line 12\u001b[0m, in \u001b[0;36mStudent\u001b[1;34m()\u001b[0m\n\u001b[0;32m      9\u001b[0m         \u001b[38;5;28msum\u001b[39m\u001b[38;5;241m+\u001b[39m\u001b[38;5;241m=\u001b[39m\u001b[38;5;241m1\u001b[39m\n\u001b[0;32m     10\u001b[0m     \u001b[38;5;28mprint\u001b[39m(\u001b[38;5;28msum\u001b[39m\u001b[38;5;241m/\u001b[39m\u001b[38;5;241m3\u001b[39m)\n\u001b[1;32m---> 12\u001b[0m s1\u001b[38;5;241m=\u001b[39m\u001b[43mStudent\u001b[49m\u001b[43m(\u001b[49m\u001b[38;5;124;43m\"\u001b[39;49m\u001b[38;5;124;43mkaran\u001b[39;49m\u001b[38;5;124;43m\"\u001b[39;49m\u001b[43m,\u001b[49m\u001b[43m[\u001b[49m\u001b[38;5;241;43m56\u001b[39;49m\u001b[43m,\u001b[49m\u001b[38;5;241;43m76\u001b[39;49m\u001b[43m,\u001b[49m\u001b[38;5;241;43m87\u001b[39;49m\u001b[43m,\u001b[49m\u001b[38;5;241;43m98\u001b[39;49m\u001b[43m]\u001b[49m\u001b[43m)\u001b[49m\n\u001b[0;32m     13\u001b[0m \u001b[38;5;28mprint\u001b[39m(s1\u001b[38;5;241m.\u001b[39mname) \n\u001b[0;32m     15\u001b[0m s1\u001b[38;5;241m.\u001b[39maverage()\n",
      "\u001b[1;31mTypeError\u001b[0m: Student.__init__() missing 1 required positional argument: 'marks'"
     ]
    }
   ],
   "source": [
    "class Student:\n",
    "    def __init__(self,name,mark):\n",
    "        self.name=name\n",
    "        self.mark=mark\n",
    "\n",
    "    def average(self):\n",
    "        sum=0;\n",
    "        for i in self.mark:\n",
    "            sum+=1\n",
    "        print(sum/3)\n",
    "\n",
    "    s1=Student(\"karan\",[56,76,87,98])\n",
    "    print(s1.name) \n",
    "\n",
    "    s1.average()"
   ]
  },
  {
   "cell_type": "code",
   "execution_count": 87,
   "metadata": {},
   "outputs": [
    {
     "name": "stdout",
     "output_type": "stream",
     "text": [
      "welcome to my world\n"
     ]
    }
   ],
   "source": [
    "class Student:\n",
    "    def __init__(self,name,age):\n",
    "        self.name=name\n",
    "        self.age=age\n",
    "    @staticmethod\n",
    "    def hello():\n",
    "        print(\"welcome to my world\")\n",
    "\n",
    "s1=Student(\"adii\",20)\n",
    "s1.hello()"
   ]
  },
  {
   "cell_type": "code",
   "execution_count": 20,
   "metadata": {},
   "outputs": [
    {
     "name": "stdout",
     "output_type": "stream",
     "text": [
      "70000 7856985768\n",
      "1000\n",
      "69000\n",
      "1000\n",
      "70000\n"
     ]
    }
   ],
   "source": [
    "class Account:\n",
    "    def __init__(self,balance,account_no):\n",
    "        self.balance=balance\n",
    "        self.account_no=account_no\n",
    "        # self.debit=False\n",
    "\n",
    "    def debit(self,amount):\n",
    "        self.balance -= amount\n",
    "        print(amount)\n",
    "        print(self.get_balance())\n",
    "\n",
    "    def credit(self,amount):\n",
    "        self.balance += amount\n",
    "        print(amount)    \n",
    "        print(self.get_balance())\n",
    "\n",
    "    def get_balance(self):\n",
    "        return self.balance\n",
    "\n",
    "    a1=Account(70000,7856985768)\n",
    "    print(a1.balance,a1.account_no)\n",
    "    a1.debit(1000)\n",
    "    a1.credit(1000)\n",
    "    "
   ]
  },
  {
   "cell_type": "code",
   "execution_count": 25,
   "metadata": {},
   "outputs": [
    {
     "name": "stdout",
     "output_type": "stream",
     "text": [
      "hgfyj\n"
     ]
    },
    {
     "ename": "AttributeError",
     "evalue": "'Student' object has no attribute 'name'",
     "output_type": "error",
     "traceback": [
      "\u001b[1;31m---------------------------------------------------------------------------\u001b[0m",
      "\u001b[1;31mAttributeError\u001b[0m                            Traceback (most recent call last)",
      "Cell \u001b[1;32mIn[25], line 11\u001b[0m\n\u001b[0;32m      8\u001b[0m \u001b[38;5;28mprint\u001b[39m(s1\u001b[38;5;241m.\u001b[39mname)\n\u001b[0;32m     10\u001b[0m \u001b[38;5;28;01mdel\u001b[39;00m s1\u001b[38;5;241m.\u001b[39mname\n\u001b[1;32m---> 11\u001b[0m \u001b[38;5;28mprint\u001b[39m(\u001b[43ms1\u001b[49m\u001b[38;5;241;43m.\u001b[39;49m\u001b[43mname\u001b[49m)\n",
      "\u001b[1;31mAttributeError\u001b[0m: 'Student' object has no attribute 'name'"
     ]
    }
   ],
   "source": [
    "#del\n",
    "class Student:\n",
    "    def __init__(self,name):\n",
    "        self.name=name\n",
    "\n",
    "\n",
    "s1=Student(\"hgfyj\")\n",
    "print(s1.name)\n",
    "\n",
    "del s1.name\n",
    "print(s1.name)"
   ]
  },
  {
   "cell_type": "code",
   "execution_count": 28,
   "metadata": {},
   "outputs": [
    {
     "name": "stdout",
     "output_type": "stream",
     "text": [
      "342\n"
     ]
    },
    {
     "ename": "AttributeError",
     "evalue": "'Account' object has no attribute 'account_pass'",
     "output_type": "error",
     "traceback": [
      "\u001b[1;31m---------------------------------------------------------------------------\u001b[0m",
      "\u001b[1;31mAttributeError\u001b[0m                            Traceback (most recent call last)",
      "Cell \u001b[1;32mIn[28], line 11\u001b[0m\n\u001b[0;32m      9\u001b[0m a1\u001b[38;5;241m=\u001b[39mAccount(\u001b[38;5;241m342\u001b[39m,\u001b[38;5;241m65764465\u001b[39m)\n\u001b[0;32m     10\u001b[0m \u001b[38;5;28mprint\u001b[39m(a1\u001b[38;5;241m.\u001b[39mbalance)       \n\u001b[1;32m---> 11\u001b[0m \u001b[38;5;28mprint\u001b[39m(\u001b[43ma1\u001b[49m\u001b[38;5;241;43m.\u001b[39;49m\u001b[43maccount_pass\u001b[49m)       \n",
      "\u001b[1;31mAttributeError\u001b[0m: 'Account' object has no attribute 'account_pass'"
     ]
    }
   ],
   "source": [
    "class Account:\n",
    "    def __init__(self,balance,account_pass):\n",
    "        self.balance=balance\n",
    "        self.__account_pass=account_pass #personal\n",
    "a1=Account(342,65764465)\n",
    "print(a1.balance)       \n",
    "print(a1.account_pass)       "
   ]
  },
  {
   "cell_type": "code",
   "execution_count": 16,
   "metadata": {},
   "outputs": [
    {
     "name": "stdout",
     "output_type": "stream",
     "text": [
      "aditya\n"
     ]
    }
   ],
   "source": [
    "class Person:\n",
    "    def __init__(self,name):\n",
    "    #name=\"adii\"#public\n",
    "        self.__name=name#private\n",
    "    # @staticmethod\n",
    "    def hello(self):#private\n",
    "        print(self.__name)\n",
    "\n",
    "   \n",
    "s1=Person(\"aditya\")\n",
    "# print(s1.name)\n",
    "s1.hello()"
   ]
  },
  {
   "cell_type": "code",
   "execution_count": 44,
   "metadata": {},
   "outputs": [
    {
     "name": "stdout",
     "output_type": "stream",
     "text": [
      "audi\n",
      "car started..\n",
      "car stoped..\n"
     ]
    }
   ],
   "source": [
    "#------------------------------Single-level inheritance-------------------------------------\n",
    "class Car:    \n",
    "    @staticmethod\n",
    "    def Start():\n",
    "        print(\"car started..\")\n",
    "    @staticmethod\n",
    "    def Stop():\n",
    "        print(\"car stoped..\")\n",
    "\n",
    "class Toyotacar(Car):\n",
    "    def __init__(self,make,model,year):\n",
    "        self.make=make\n",
    "        self.model=model\n",
    "        self.year=year\n",
    "        \n",
    "car1=Toyotacar('audi','audi5454',6767)\n",
    "print(car1.make)\n",
    "car1.Start()   \n",
    "car1.Stop()   "
   ]
  },
  {
   "cell_type": "code",
   "execution_count": 48,
   "metadata": {},
   "outputs": [
    {
     "name": "stdout",
     "output_type": "stream",
     "text": [
      "petrol\n",
      "car started..\n"
     ]
    }
   ],
   "source": [
    "#------------------------------multi-level inheritance-------------------------------------\n",
    "class Car:    \n",
    "    @staticmethod\n",
    "    def Start():\n",
    "        print(\"car started..\")    #base1\n",
    "    @staticmethod\n",
    "    def Stop():\n",
    "        print(\"car stoped..\")\n",
    "\n",
    "class Toyotacar(Car):\n",
    "    def __init__(self,make,model,year):\n",
    "        self.make=make\n",
    "        self.model=model                 #base2-->1\n",
    "        self.year=year\n",
    "\n",
    "class Fortuner(Toyotacar):\n",
    "    def __init__(self,type):             #base3-->2\n",
    "        self.type=type\n",
    "\n",
    "car1=Fortuner(\"petrol\")\n",
    "print(car1.type)\n",
    "\n",
    "car1.Start()\n",
    "        \n",
    "# car1=Toyotacar('audi','audi5454',6767)\n",
    "# print(car1.make)\n",
    "# car1.Start()   \n",
    "# car1.Stop()   "
   ]
  },
  {
   "cell_type": "code",
   "execution_count": 52,
   "metadata": {},
   "outputs": [
    {
     "name": "stdout",
     "output_type": "stream",
     "text": [
      "petrol\n",
      "bahut costly hai\n",
      "car started..\n"
     ]
    }
   ],
   "source": [
    "#-----------------------------------------multiple inheritance------------------------------\n",
    "class Car:    \n",
    "    @staticmethod\n",
    "    def Start():\n",
    "        print(\"car started..\")       #base1\n",
    "    @staticmethod\n",
    "    def Stop():\n",
    "        print(\"car stoped..\")\n",
    "\n",
    "class Toyotacar():\n",
    "    def __init__(self,make,model,year):\n",
    "        self.make=make\n",
    "        self.model=model              #base2\n",
    "        self.year=year\n",
    "\n",
    "class Fortuner(Toyotacar,Car):\n",
    "    def __init__(self,type):\n",
    "        self.type=type               #base-->1 and 2 both\n",
    "\n",
    "    def Price(self):\n",
    "        print(\"bahut costly hai\")   \n",
    "\n",
    "car1=Fortuner(\"petrol\")\n",
    "print(car1.type)\n",
    "\n",
    "car1.Price()\n",
    "car1.Start()\n"
   ]
  },
  {
   "cell_type": "code",
   "execution_count": 72,
   "metadata": {},
   "outputs": [
    {
     "name": "stdout",
     "output_type": "stream",
     "text": [
      "car started..\n",
      "fortuner\n",
      "5687\n",
      "car started..\n"
     ]
    }
   ],
   "source": [
    "class Car: \n",
    "    def __init__(self,make):\n",
    "        self.make=make\n",
    "        # self.model=model              \n",
    "        # self.year=year   \n",
    "    @staticmethod\n",
    "    def Start():\n",
    "        print(\"car started..\")       \n",
    "    @staticmethod\n",
    "    def Stop():\n",
    "        print(\"car stoped..\")\n",
    "\n",
    "class Toyotacar(Car):\n",
    "    def __init__(self,name,make):\n",
    "        super().__init__(make)\n",
    "        self.name=name\n",
    "        super().Start()\n",
    "\n",
    "car1=Toyotacar(\"fortuner\",5687)\n",
    "print(car1.name)\n",
    "\n",
    "print(car1.make)\n",
    "car1.Start()"
   ]
  },
  {
   "cell_type": "code",
   "execution_count": 6,
   "metadata": {},
   "outputs": [
    {
     "name": "stdout",
     "output_type": "stream",
     "text": [
      "2004\n",
      "fortuner car start ho gai hai\n"
     ]
    }
   ],
   "source": [
    "class Car:\n",
    "    def __init__(self,make,model):\n",
    "        self.make=make\n",
    "        self.__model=model\n",
    "    # @staticmethod\n",
    "    def Start_car(self):\n",
    "        print(self.__model,\"car start ho gai hai\")\n",
    "    @staticmethod\n",
    "    def Stop_car():\n",
    "        print(\"car stop...........\")\n",
    "car1=Car(2004,'fortuner')\n",
    "print(car1.make)\n",
    "car1.Start_car()"
   ]
  },
  {
   "cell_type": "code",
   "execution_count": 10,
   "metadata": {},
   "outputs": [
    {
     "name": "stdout",
     "output_type": "stream",
     "text": [
      "1234\n",
      "car stop...........\n",
      "ABC\n"
     ]
    }
   ],
   "source": [
    "class Car:\n",
    "    def __init__(self,make,model):\n",
    "        self.make=make\n",
    "        self.__model=model\n",
    "    def Start_car(self):\n",
    "        print(\"car start ho \")\n",
    "    def Stop_car(self):\n",
    "        print(\"car stop...........\")\n",
    "\n",
    "class Toyota(Car):\n",
    "    def __init__(self,make,model):\n",
    "        self.model=model\n",
    "        super().__init__(make,model) \n",
    "\n",
    "car1=Toyota(1234,\"ABC\")\n",
    "print(car1.make)\n",
    "car1.Stop_car()\n",
    "print(car1.model)"
   ]
  },
  {
   "cell_type": "code",
   "execution_count": 13,
   "metadata": {},
   "outputs": [
    {
     "name": "stdout",
     "output_type": "stream",
     "text": [
      "adi\n",
      "adi\n"
     ]
    }
   ],
   "source": [
    "class Student:\n",
    "    # def __init__(self,name):\n",
    "    name=\"aditya\"\n",
    "    @classmethod\n",
    "    def change_name(cls,name):\n",
    "        cls.name=name\n",
    "\n",
    "s1=Student()\n",
    "# print(s1.name)\n",
    "s1.change_name(\"adi\")\n",
    "print(s1.name)\n",
    "print(Student.name)"
   ]
  },
  {
   "cell_type": "code",
   "execution_count": 21,
   "metadata": {},
   "outputs": [
    {
     "name": "stdout",
     "output_type": "stream",
     "text": [
      "96.66666666666667\n",
      "90.0\n"
     ]
    }
   ],
   "source": [
    "class Student:\n",
    "    def __init__(self,phy,che,maths):\n",
    "        self.phy=phy\n",
    "        self.che=che\n",
    "        self.maths=maths\n",
    "    @property   \n",
    "    def percent(self):\n",
    "        return str((self.phy+self.che+self.maths)/3)        \n",
    "\n",
    "s1=Student(98,97,95)\n",
    "print(s1.percent)\n",
    "\n",
    "s1.phy=90\n",
    "s1.che=90\n",
    "s1.maths=90\n",
    "print(s1.percent)"
   ]
  },
  {
   "cell_type": "code",
   "execution_count": 12,
   "metadata": {},
   "outputs": [
    {
     "name": "stdout",
     "output_type": "stream",
     "text": [
      "1 i + 4 j\n",
      "2 i + 4 j\n",
      "-1 i + 0 j\n"
     ]
    }
   ],
   "source": [
    "class Complex:\n",
    "    def __init__(self,real,imig):\n",
    "        self.real=real\n",
    "        self.imig=imig\n",
    "\n",
    "    def Show_number(self):\n",
    "        print(self.real,\"i +\",self.imig,\"j\")\n",
    "    \n",
    "    def __add__(self,com):\n",
    "        areal=(self.real + com.real)\n",
    "        aimg=(self.imig + com.imig)\n",
    "        return Complex (areal,aimg)\n",
    "    \n",
    "    def __sub__(a,b):\n",
    "        r=(a.real - b.real)\n",
    "        i=(a.imig - b.imig)\n",
    "        return Complex (r,i)\n",
    "\n",
    "c1=Complex(1,4)\n",
    "c1.Show_number()\n",
    "c2=Complex(2,4)\n",
    "c2.Show_number()\n",
    "c3=c1-c2\n",
    "c3.Show_number()"
   ]
  },
  {
   "cell_type": "code",
   "execution_count": 14,
   "metadata": {},
   "outputs": [
    {
     "name": "stdout",
     "output_type": "stream",
     "text": [
      "131.88\n",
      "1384.74\n"
     ]
    }
   ],
   "source": [
    "class Circle:\n",
    "    def __init__(self,radius):\n",
    "        self.radius=radius\n",
    "\n",
    "\n",
    "    def Area(self):\n",
    "        print(2*3.14*self.radius)\n",
    "\n",
    "\n",
    "    def Perimeter(self):\n",
    "        print(3.14*(self.radius**2))\n",
    "\n",
    "\n",
    "c1=Circle(21)\n",
    "c1.Area()\n",
    "c1.Perimeter()"
   ]
  },
  {
   "cell_type": "code",
   "execution_count": 32,
   "metadata": {},
   "outputs": [
    {
     "name": "stdout",
     "output_type": "stream",
     "text": [
      "role = engineer\n",
      "department= abc1\n",
      "salary= 5456467\n",
      "role = engineer\n",
      "department= abc1\n",
      "salary= 5456467\n",
      "rahul\n"
     ]
    }
   ],
   "source": [
    "class Employee:\n",
    "    def __init__(self,role,department,salary):\n",
    "        self.role=role\n",
    "        self.department=department\n",
    "        self.salary=salary\n",
    "\n",
    "\n",
    "    def Show_details(self):\n",
    "        print(\"role =\",self.role)\n",
    "        print(\"department=\",self.department)\n",
    "        print(\"salary=\",self.salary)\n",
    "\n",
    "class Engineer(Employee):\n",
    "    def __init__(self,name,age):\n",
    "        self.name=name\n",
    "        self.age=age\n",
    "        super().__init__(\"engineer\",\"abc1\",5456467)\n",
    "\n",
    "\n",
    "\n",
    "e1=Employee(\"engineer\",\"abc1\",5456467)\n",
    "e1.Show_details() \n",
    "eng1=Engineer(\"rahul\",30)\n",
    "eng1.Show_details() \n",
    "print(eng1.name)\n",
    "\n",
    "\n",
    "# e2=Engineer()"
   ]
  },
  {
   "cell_type": "code",
   "execution_count": 40,
   "metadata": {},
   "outputs": [
    {
     "name": "stdout",
     "output_type": "stream",
     "text": [
      "False\n"
     ]
    }
   ],
   "source": [
    "class Order:\n",
    "    def __init__(self,store_items,price):\n",
    "        self.store_items=store_items\n",
    "        self.price=price\n",
    "    def __gt__(a,b):\n",
    "        return a.price > b.price\n",
    "        #     print(\"order1 > order2\")\n",
    "        # else:\n",
    "        #     print(\"maza nhi aya\")\n",
    "        # return Complex(a,b)\n",
    "o1=Order(\"chips\",10)\n",
    "o2=Order(\"tea\",0)\n",
    "print(o1 < o2)\n"
   ]
  }
 ],
 "metadata": {
  "kernelspec": {
   "display_name": "Python 3",
   "language": "python",
   "name": "python3"
  },
  "language_info": {
   "codemirror_mode": {
    "name": "ipython",
    "version": 3
   },
   "file_extension": ".py",
   "mimetype": "text/x-python",
   "name": "python",
   "nbconvert_exporter": "python",
   "pygments_lexer": "ipython3",
   "version": "3.11.4"
  }
 },
 "nbformat": 4,
 "nbformat_minor": 2
}
