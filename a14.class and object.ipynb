{
 "cells": [
  {
   "cell_type": "code",
   "execution_count": 2,
   "metadata": {},
   "outputs": [
    {
     "name": "stdout",
     "output_type": "stream",
     "text": [
      "your name is: aditya\n",
      "your rollno is: 200102345\n"
     ]
    }
   ],
   "source": [
    "class schoolform:\n",
    "    def printdeta(self):\n",
    "        print(\"your name is:\",self.name)\n",
    "        print(\"your rollno is:\",self.rollno)\n",
    "\n",
    "object = schoolform()\n",
    "object.name=str(input(\"enter your name\"))\n",
    "object.rollno=int(input(\"enter your rollno\"))\n",
    "object.printdeta()\n"
   ]
  }
 ],
 "metadata": {
  "kernelspec": {
   "display_name": "Python 3",
   "language": "python",
   "name": "python3"
  },
  "language_info": {
   "codemirror_mode": {
    "name": "ipython",
    "version": 3
   },
   "file_extension": ".py",
   "mimetype": "text/x-python",
   "name": "python",
   "nbconvert_exporter": "python",
   "pygments_lexer": "ipython3",
   "version": "3.11.4"
  }
 },
 "nbformat": 4,
 "nbformat_minor": 2
}
