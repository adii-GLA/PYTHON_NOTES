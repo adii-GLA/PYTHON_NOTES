{
 "cells": [
  {
   "cell_type": "code",
   "execution_count": 6,
   "metadata": {},
   "outputs": [
    {
     "name": "stdout",
     "output_type": "stream",
     "text": [
      "{'prashant', 'aditya', 'sumit', 'nitin'}\n"
     ]
    }
   ],
   "source": [
    "# HOW TO MAKE SET\n",
    "names={\"aditya\",\"prashant\",\"sumit\",\"nitin\",\"aditya\",\"prashant\",\"sumit\",\"nitin\"}\n",
    "print(names)"
   ]
  },
  {
   "cell_type": "code",
   "execution_count": 8,
   "metadata": {},
   "outputs": [
    {
     "name": "stdout",
     "output_type": "stream",
     "text": [
      "{'nitin', 'prashant', 'sumit', 'jatin', 'aditya'}\n"
     ]
    }
   ],
   "source": [
    "# TO ADD SOMETHING IN SETS \n",
    "# but we cannot add duplicate items\n",
    "names={\"aditya\",\"prashant\",\"sumit\",\"nitin\"}\n",
    "names.add(\"jatin\")\n",
    "print(names)"
   ]
  },
  {
   "cell_type": "code",
   "execution_count": 10,
   "metadata": {},
   "outputs": [
    {
     "name": "stdout",
     "output_type": "stream",
     "text": [
      "{'nikhil', 'nitin', 'prashant', 'sumit', 'sohit', 'aditya', 'rohit'}\n"
     ]
    }
   ],
   "source": [
    "names={\"aditya\",\"prashant\",\"sumit\",\"nitin\"}\n",
    "naam={\"nikhil\",\"rohit\",\"sohit\"}\n",
    "names.update([\"nikhil\",\"rohit\",\"sohit\"])\n",
    "print(names)"
   ]
  }
 ],
 "metadata": {
  "kernelspec": {
   "display_name": "Python 3",
   "language": "python",
   "name": "python3"
  },
  "language_info": {
   "codemirror_mode": {
    "name": "ipython",
    "version": 3
   },
   "file_extension": ".py",
   "mimetype": "text/x-python",
   "name": "python",
   "nbconvert_exporter": "python",
   "pygments_lexer": "ipython3",
   "version": "3.11.4"
  }
 },
 "nbformat": 4,
 "nbformat_minor": 2
}
